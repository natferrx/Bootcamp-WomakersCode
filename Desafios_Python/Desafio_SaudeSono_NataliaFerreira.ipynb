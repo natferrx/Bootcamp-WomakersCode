{
  "nbformat": 4,
  "nbformat_minor": 0,
  "metadata": {
    "colab": {
      "provenance": []
    },
    "kernelspec": {
      "name": "python3",
      "display_name": "Python 3"
    },
    "language_info": {
      "name": "python"
    }
  },
  "cells": [
    {
      "cell_type": "markdown",
      "source": [
        "# Python para Dados - Desafio Final\n",
        "\n",
        "> **Participante:** Natalia Ferreira  \n",
        "> **Squad:** Sônia Guimarães\n",
        "\n",
        "Considerando a base de dados de saude_do_sono_estilo_vida.csv responda\n",
        "as questões abaixo.\n",
        "\n",
        "Você é uma pesquisadora que está tentando entender melhor qual o impacto\n",
        "do estilo de vida de uma pessoa na sua qualidade de sono, por isso fez a\n",
        "coleta dos dados de sobre 373 pessoas, onde foram recolhidas 12\n",
        "características para cada uma delas. Por competência a sua pesquisa foi bem\n",
        "controlada e você não tem dados faltosos na sua base. Chegou o momento\n",
        "de você fazer sua análise e responder algumas perguntas."
      ],
      "metadata": {
        "id": "qUFrrDbET8Gg"
      }
    },
    {
      "cell_type": "code",
      "execution_count": null,
      "metadata": {
        "id": "cU6dFnzWT2jI"
      },
      "outputs": [],
      "source": [
        "import pandas as pd\n",
        "import numpy as np"
      ]
    },
    {
      "cell_type": "code",
      "source": [
        "# Carregar o arquivo CSV em um DataFrame\n",
        "df = pd.read_csv('saude_do_sono_estilo_vida.csv')"
      ],
      "metadata": {
        "id": "JjPBnvX3WvX4"
      },
      "execution_count": null,
      "outputs": []
    },
    {
      "cell_type": "code",
      "source": [
        "# Exibir as primeiras linhas da tabela para entender os dados\n",
        "print(df.head())"
      ],
      "metadata": {
        "colab": {
          "base_uri": "https://localhost:8080/"
        },
        "id": "M3gcchf6WxoT",
        "outputId": "481f07c9-b0ee-457a-e899-f605a1d55f08"
      },
      "execution_count": null,
      "outputs": [
        {
          "output_type": "stream",
          "name": "stdout",
          "text": [
            "   Identificador Gênero  Idade                Profissão  Duração do sono  \\\n",
            "0              1  Homem     27         Eng. de Software              6.1   \n",
            "1              2  Homem     28                Médico(a)              6.2   \n",
            "2              3  Homem     28                Médico(a)              6.2   \n",
            "3              4  Homem     28  Representante de Vendas              5.9   \n",
            "4              5  Homem     28  Representante de Vendas              5.9   \n",
            "\n",
            "   Qualidade do sono  Nível de atividade física  Nível de estresse  \\\n",
            "0                  6                         42                  6   \n",
            "1                  6                         60                  8   \n",
            "2                  6                         60                  8   \n",
            "3                  4                         30                  8   \n",
            "4                  4                         30                  8   \n",
            "\n",
            "  Categoria IMC Pressão sanguínea  Frequência cardíaca  Passos diários  \\\n",
            "0     Sobrepeso            126/83                   77            4200   \n",
            "1        Normal            125/80                   75           10000   \n",
            "2        Normal            125/80                   75           10000   \n",
            "3     Obesidade            140/90                   85            3000   \n",
            "4     Obesidade            140/90                   85            3000   \n",
            "\n",
            "  Distúrbio do sono  Pressão sistólica  Pressão diastólica  \n",
            "0           Nenhuma                126                  83  \n",
            "1           Nenhuma                125                  80  \n",
            "2           Nenhuma                125                  80  \n",
            "3    Apneia do sono                140                  90  \n",
            "4    Apneia do sono                140                  90  \n"
          ]
        }
      ]
    },
    {
      "cell_type": "markdown",
      "source": [
        "**1. Ao visualizar a base você percebeu que seria melhor alterar o nome de\n",
        "algumas colunas. Mude o ‘ID’ para ‘Identificador’, corrija o nome da\n",
        "coluna que indica a pressão sanguínea, mude a coluna ‘Ocupação’ para\n",
        "‘Profissão’, a coluna ‘Categoria BMI’ está em parte em inglês, substitua\n",
        "para ‘Categoria IMC’.**"
      ],
      "metadata": {
        "id": "Rs8pdEY0fSWx"
      }
    },
    {
      "cell_type": "code",
      "source": [
        "# Renomear as colunas conforme especificado\n",
        "df.rename(columns={'ID': 'Identificador',\n",
        "                   'Ocupação': 'Profissão',\n",
        "                   'Pressão sanguíneaaaa': 'Pressão sanguínea',\n",
        "                   'Categoria BMI': 'Categoria IMC'}, inplace=True)\n",
        "print(df.head())"
      ],
      "metadata": {
        "colab": {
          "base_uri": "https://localhost:8080/"
        },
        "id": "MHbaXpKbfGop",
        "outputId": "0c7fe4d0-9d6f-4691-bffc-eb237a1faed1"
      },
      "execution_count": null,
      "outputs": [
        {
          "output_type": "stream",
          "name": "stdout",
          "text": [
            "   Identificador Gênero  Idade                Profissão  Duração do sono  \\\n",
            "0              1  Homem     27         Eng. de Software              6.1   \n",
            "1              2  Homem     28                Médico(a)              6.2   \n",
            "2              3  Homem     28                Médico(a)              6.2   \n",
            "3              4  Homem     28  Representante de Vendas              5.9   \n",
            "4              5  Homem     28  Representante de Vendas              5.9   \n",
            "\n",
            "   Qualidade do sono  Nível de atividade física  Nível de estresse  \\\n",
            "0                  6                         42                  6   \n",
            "1                  6                         60                  8   \n",
            "2                  6                         60                  8   \n",
            "3                  4                         30                  8   \n",
            "4                  4                         30                  8   \n",
            "\n",
            "  Categoria IMC Pressão sanguínea  Frequência cardíaca  Passos diários  \\\n",
            "0     Sobrepeso            126/83                   77            4200   \n",
            "1        Normal            125/80                   75           10000   \n",
            "2        Normal            125/80                   75           10000   \n",
            "3     Obesidade            140/90                   85            3000   \n",
            "4     Obesidade            140/90                   85            3000   \n",
            "\n",
            "  Distúrbio do sono  \n",
            "0           Nenhuma  \n",
            "1           Nenhuma  \n",
            "2           Nenhuma  \n",
            "3    Apneia do sono  \n",
            "4    Apneia do sono  \n"
          ]
        }
      ]
    },
    {
      "cell_type": "markdown",
      "source": [
        "**2. Qual é a média, a moda e a mediana de horas de sono para cada uma\n",
        "das profissões? [‘mean’, np.median, pd.Series.mod]**"
      ],
      "metadata": {
        "id": "-AbS5P5Ofrk-"
      }
    },
    {
      "cell_type": "code",
      "source": [
        "# Calcular média, mediana e moda de horas de sono para cada profissão\n",
        "media_horas_sono = df.groupby('Profissão')['Duração do sono'].mean()\n",
        "mediana_horas_sono = df.groupby('Profissão')['Duração do sono'].apply(np.median)\n",
        "moda_horas_sono = df.groupby('Profissão')['Duração do sono'].apply(lambda x: pd.Series.mode(x)[0])\n",
        "\n",
        "print(\"Média de horas de sono para cada profissão:\")\n",
        "print(media_horas_sono)\n",
        "print(\"\\nMediana de horas de sono para cada profissão:\")\n",
        "print(mediana_horas_sono)\n",
        "print(\"\\nModa de horas de sono para cada profissão:\")\n",
        "print(moda_horas_sono)"
      ],
      "metadata": {
        "colab": {
          "base_uri": "https://localhost:8080/"
        },
        "id": "qu1NRYxTfsqR",
        "outputId": "ee0ef1ce-221c-492b-8f21-44c1b0504a69"
      },
      "execution_count": null,
      "outputs": [
        {
          "output_type": "stream",
          "name": "stdout",
          "text": [
            "Média de horas de sono para cada profissão:\n",
            "Profissão\n",
            "Advogado(a)                7.410638\n",
            "Cientista                  6.000000\n",
            "Contador(a)                7.113514\n",
            "Enfermeiro(a)              7.048611\n",
            "Eng. de Software           6.750000\n",
            "Engenheiro(a)              7.987302\n",
            "Gerente                    6.900000\n",
            "Médico(a)                  6.970423\n",
            "Pessoa Vendendora          6.403125\n",
            "Professor(a)               6.690000\n",
            "Representante de Vendas    5.900000\n",
            "Name: Duração do sono, dtype: float64\n",
            "\n",
            "Mediana de horas de sono para cada profissão:\n",
            "Profissão\n",
            "Advogado(a)                7.3\n",
            "Cientista                  6.0\n",
            "Contador(a)                7.2\n",
            "Enfermeiro(a)              6.5\n",
            "Eng. de Software           6.8\n",
            "Engenheiro(a)              8.3\n",
            "Gerente                    6.9\n",
            "Médico(a)                  7.6\n",
            "Pessoa Vendendora          6.4\n",
            "Professor(a)               6.6\n",
            "Representante de Vendas    5.9\n",
            "Name: Duração do sono, dtype: float64\n",
            "\n",
            "Moda de horas de sono para cada profissão:\n",
            "Profissão\n",
            "Advogado(a)                7.2\n",
            "Cientista                  5.8\n",
            "Contador(a)                7.2\n",
            "Enfermeiro(a)              6.1\n",
            "Eng. de Software           7.5\n",
            "Engenheiro(a)              8.4\n",
            "Gerente                    6.9\n",
            "Médico(a)                  6.0\n",
            "Pessoa Vendendora          6.5\n",
            "Professor(a)               6.6\n",
            "Representante de Vendas    5.9\n",
            "Name: Duração do sono, dtype: float64\n"
          ]
        }
      ]
    },
    {
      "cell_type": "markdown",
      "source": [
        "**3. Das pessoas que atuam com engenharia de software qual a\n",
        "porcentagem de obesos?**\n"
      ],
      "metadata": {
        "id": "dRroBofkg5Il"
      }
    },
    {
      "cell_type": "code",
      "source": [
        "# Pessoas que atuam com engenharia de software: filtro\n",
        "engenharia_software = df[df['Profissão'] == 'Eng. de Software']\n",
        "# Porcentagem de obesos entre eles\n",
        "porcentagem_obesos_eng_software = (engenharia_software['Categoria IMC'] == 'Obesidade').mean() * 100\n",
        "\n",
        "print(f\"\\nPorcentagem de obesos entre os que atuam com engenharia de software: {porcentagem_obesos_eng_software:.2f}%\")"
      ],
      "metadata": {
        "colab": {
          "base_uri": "https://localhost:8080/"
        },
        "id": "l-sGbdlOg0uH",
        "outputId": "51b2df96-69f7-4e0d-8447-e94ee9bcfc12"
      },
      "execution_count": null,
      "outputs": [
        {
          "output_type": "stream",
          "name": "stdout",
          "text": [
            "\n",
            "Porcentagem de obesos entre os que atuam com engenharia de software: 25.00%\n"
          ]
        }
      ]
    },
    {
      "cell_type": "markdown",
      "source": [
        "**4. De acordo com os dados, advogar ou ser representante de vendas faz\n",
        "você dormir menos? (Use o método ‘isin’, considere a média)**\n"
      ],
      "metadata": {
        "id": "xX0IST98g7xA"
      }
    },
    {
      "cell_type": "code",
      "source": [
        "# Média de horas de sono de advogados e representantes de vendas\n",
        "advogados_vendas = df[df['Profissão'].isin(['Advogado(a)', 'Representante de Vendas'])]\n",
        "media_horas_sono_adv_vendas = advogados_vendas.groupby('Profissão')['Duração do sono'].mean()\n",
        "\n",
        "print(\"\\nMédia de horas de sono para advogados e representantes de vendas:\")\n",
        "print(media_horas_sono_adv_vendas)"
      ],
      "metadata": {
        "colab": {
          "base_uri": "https://localhost:8080/"
        },
        "id": "kepP4qb3g_K_",
        "outputId": "d9e68fc4-fc26-4745-e4dd-87d47ab99005"
      },
      "execution_count": null,
      "outputs": [
        {
          "output_type": "stream",
          "name": "stdout",
          "text": [
            "\n",
            "Média de horas de sono para advogados e representantes de vendas:\n",
            "Profissão\n",
            "Advogado(a)                7.410638\n",
            "Representante de Vendas    5.900000\n",
            "Name: Duração do sono, dtype: float64\n"
          ]
        }
      ]
    },
    {
      "cell_type": "markdown",
      "source": [
        "**5. Entre quem fez enfermagem e quem fez medicina, quem tem menos\n",
        "horas de sono? (Use o método ‘isin’, considere a média)**\n"
      ],
      "metadata": {
        "id": "KMxirLqig_hS"
      }
    },
    {
      "cell_type": "code",
      "source": [
        "# Média de horas de sono entre enfermeiros e médicos\n",
        "enfermagem_medicina = df[df['Profissão'].isin(['Enfermeiro(a)', 'Médico(a)'])]\n",
        "media_horas_sono_enf_med = enfermagem_medicina.groupby('Profissão')['Duração do sono'].mean()\n",
        "\n",
        "print(\"\\nMédia de horas de sono entre enfermeiros e médicos:\")\n",
        "print(media_horas_sono_enf_med)"
      ],
      "metadata": {
        "colab": {
          "base_uri": "https://localhost:8080/"
        },
        "id": "74Ipc8UlhCXq",
        "outputId": "a68bb871-e97b-4a9a-e2f3-ae7199305fac"
      },
      "execution_count": null,
      "outputs": [
        {
          "output_type": "stream",
          "name": "stdout",
          "text": [
            "\n",
            "Média de horas de sono entre enfermeiros e médicos:\n",
            "Profissão\n",
            "Enfermeiro(a)    7.048611\n",
            "Médico(a)        6.970423\n",
            "Name: Duração do sono, dtype: float64\n"
          ]
        }
      ]
    },
    {
      "cell_type": "markdown",
      "source": [
        "**6. Faça um subconjunto com as colunas Identificador, Gênero, Idade,\n",
        "Pressão sanguínea e Frequência cardíaca.**\n"
      ],
      "metadata": {
        "id": "hGXRZ_33hCnq"
      }
    },
    {
      "cell_type": "code",
      "source": [
        "# Subconjunto de dados com as colunas solicitadas\n",
        "subconjunto = df[['Identificador', 'Gênero', 'Idade', 'Pressão sanguínea', 'Frequência cardíaca']]\n",
        "\n",
        "print(subconjunto.head())"
      ],
      "metadata": {
        "colab": {
          "base_uri": "https://localhost:8080/"
        },
        "id": "WcjsdneehFrK",
        "outputId": "f81bb3a6-0566-4e22-afb0-4c73ae23632b"
      },
      "execution_count": null,
      "outputs": [
        {
          "output_type": "stream",
          "name": "stdout",
          "text": [
            "   Identificador Gênero  Idade Pressão sanguínea  Frequência cardíaca\n",
            "0              1  Homem     27            126/83                   77\n",
            "1              2  Homem     28            125/80                   75\n",
            "2              3  Homem     28            125/80                   75\n",
            "3              4  Homem     28            140/90                   85\n",
            "4              5  Homem     28            140/90                   85\n"
          ]
        }
      ]
    },
    {
      "cell_type": "markdown",
      "source": [
        "**7. Descubra qual a profissão menos frequente no conjunto. (Use value_counts)**\n"
      ],
      "metadata": {
        "id": "6fsrQLPghF8T"
      }
    },
    {
      "cell_type": "code",
      "source": [
        "# Profissão menos frequente\n",
        "contagem_profissoes = df['Profissão'].value_counts()\n",
        "profissao_menos_frequente = contagem_profissoes.idxmin()\n",
        "quantidade_profissao_menos_frequente = contagem_profissoes.min()\n",
        "\n",
        "print(f\"\\nProfissão menos frequente: {profissao_menos_frequente}\")\n",
        "print(f\"Quantidade de vezes que a profissão menos frequente aparece no conjunto: {quantidade_profissao_menos_frequente}\")\n",
        "\n",
        "# Tabela de contagem de profissões\n",
        "contagem_profissoes = df['Profissão'].value_counts()\n",
        "print(\"\\nTabela de contagem de profissões:\")\n",
        "print(contagem_profissoes)"
      ],
      "metadata": {
        "colab": {
          "base_uri": "https://localhost:8080/"
        },
        "id": "to1u9CN-hJww",
        "outputId": "48c78eac-7087-439b-a9f9-a5b774ba9fe8"
      },
      "execution_count": null,
      "outputs": [
        {
          "output_type": "stream",
          "name": "stdout",
          "text": [
            "\n",
            "Profissão menos frequente: Gerente\n",
            "Quantidade de vezes que a profissão menos frequente aparece no conjunto: 1\n",
            "\n",
            "Tabela de contagem de profissões:\n",
            "Enfermeiro(a)              72\n",
            "Médico(a)                  71\n",
            "Engenheiro(a)              63\n",
            "Advogado(a)                47\n",
            "Professor(a)               40\n",
            "Contador(a)                37\n",
            "Pessoa Vendendora          32\n",
            "Eng. de Software            4\n",
            "Cientista                   4\n",
            "Representante de Vendas     2\n",
            "Gerente                     1\n",
            "Name: Profissão, dtype: int64\n"
          ]
        }
      ]
    },
    {
      "cell_type": "markdown",
      "source": [
        "**8. Quem tem maior pressão sanguínea média, homens ou mulheres?\n",
        "(Considere a média)**\n"
      ],
      "metadata": {
        "id": "5vIFtfZahKHZ"
      }
    },
    {
      "cell_type": "code",
      "source": [
        "# Dividir a coluna 'Pressão sanguínea' em duas colunas: 'Pressão sistólica' e 'Pressão diastólica'\n",
        "df[['Pressão sistólica', 'Pressão diastólica']] = df['Pressão sanguínea'].str.split('/', expand=True)\n",
        "\n",
        "# Converter as novas colunas para tipo numérico\n",
        "df['Pressão sistólica'] = pd.to_numeric(df['Pressão sistólica'], errors='coerce')\n",
        "df['Pressão diastólica'] = pd.to_numeric(df['Pressão diastólica'], errors='coerce')\n",
        "\n",
        "# Calcular média de pressão sanguínea para cada profissão\n",
        "media_pressao_sanguinea_profissao = df.groupby('Gênero')[['Pressão sistólica', 'Pressão diastólica']].mean()\n",
        "\n",
        "print(\"Média de pressão sanguínea por gênero:\")\n",
        "print(media_pressao_sanguinea_profissao)"
      ],
      "metadata": {
        "colab": {
          "base_uri": "https://localhost:8080/"
        },
        "id": "tV7wi7DLhNUc",
        "outputId": "dd20ace9-e366-4486-a8af-5e44caa9a5e0"
      },
      "execution_count": null,
      "outputs": [
        {
          "output_type": "stream",
          "name": "stdout",
          "text": [
            "Média de pressão sanguínea por gênero:\n",
            "        Pressão sistólica  Pressão diastólica\n",
            "Gênero                                       \n",
            "Homem          126.941799           83.015873\n",
            "Mulher         130.146739           86.271739\n"
          ]
        }
      ]
    },
    {
      "cell_type": "markdown",
      "source": [
        "**9. É predominante entre os participantes dormir 8 horas por dia (considere usar Moda como medida)?**\n"
      ],
      "metadata": {
        "id": "ef-ic7ZXhNsA"
      }
    },
    {
      "cell_type": "code",
      "source": [
        "# Predominância de dormir 8 horas por dia (considerando a moda)\n",
        "predominancia_8_horas_sono = (df['Duração do sono'] == 8).mode()[0]\n",
        "\n",
        "print(f\"\\nÉ predominante entre os participantes dormir 8 horas por dia? {predominancia_8_horas_sono}\")\n",
        "\n",
        "# Calcular a média de horas de sono por dia\n",
        "media_horas_sono_por_dia = df['Duração do sono'].mean()\n",
        "\n",
        "print(f\"A média de horas por dia que uma pessoa dorme é de aproximadamente {media_horas_sono_por_dia:.2f} horas.\")"
      ],
      "metadata": {
        "colab": {
          "base_uri": "https://localhost:8080/"
        },
        "id": "CPzylR3WhSiE",
        "outputId": "56cf10fd-4868-4977-99b0-d749db0861e7"
      },
      "execution_count": null,
      "outputs": [
        {
          "output_type": "stream",
          "name": "stdout",
          "text": [
            "\n",
            "É predominante entre os participantes dormir 8 horas por dia? False\n",
            "A média de horas por dia que uma pessoa dorme é de aproximadamente 7.13 horas.\n"
          ]
        }
      ]
    }
  ]
}