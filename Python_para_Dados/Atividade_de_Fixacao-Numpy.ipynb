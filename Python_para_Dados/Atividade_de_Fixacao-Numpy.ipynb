{
 "cells": [
  {
   "cell_type": "markdown",
   "metadata": {},
   "source": [
    "# Python para Dados - Atividade de Fixação Numpy  "
   ]
  },
  {
   "cell_type": "code",
   "execution_count": 4,
   "metadata": {},
   "outputs": [],
   "source": [
    "import numpy as np"
   ]
  },
  {
   "cell_type": "markdown",
   "metadata": {},
   "source": [
    "Atividades Introdutórias:\n",
    "\n",
    "1. Crie um array com 4 linhas e 3 colunas com valores aleatórios.  "
   ]
  },
  {
   "cell_type": "code",
   "execution_count": 2,
   "metadata": {},
   "outputs": [
    {
     "data": {
      "text/plain": [
       "array([[0.71107387, 0.71949797, 0.91233158],\n",
       "       [0.6347197 , 0.31314613, 0.05393124],\n",
       "       [0.1179061 , 0.76161776, 0.59187087],\n",
       "       [0.8178129 , 0.84225675, 0.85521913]])"
      ]
     },
     "execution_count": 2,
     "metadata": {},
     "output_type": "execute_result"
    }
   ],
   "source": [
    "np.random.random((4,3))"
   ]
  },
  {
   "cell_type": "markdown",
   "metadata": {},
   "source": [
    "2. Crie um array com valores inteiros, 3 linhas e 5 colunas com valores aleatórios."
   ]
  },
  {
   "cell_type": "code",
   "execution_count": 4,
   "metadata": {},
   "outputs": [
    {
     "data": {
      "text/plain": [
       "array([[20, 14, 27, 21, 21],\n",
       "       [18, 27, 16, 29, 17],\n",
       "       [28, 24, 15, 18, 18]])"
      ]
     },
     "execution_count": 4,
     "metadata": {},
     "output_type": "execute_result"
    }
   ],
   "source": [
    "np.random.randint(10,30, size=(3,5))"
   ]
  },
  {
   "cell_type": "markdown",
   "metadata": {},
   "source": [
    "3. Crie um array com 5 colunas e 10 linhas inicializados com zeros."
   ]
  },
  {
   "cell_type": "code",
   "execution_count": 5,
   "metadata": {},
   "outputs": [
    {
     "data": {
      "text/plain": [
       "array([[0., 0., 0., 0., 0.],\n",
       "       [0., 0., 0., 0., 0.],\n",
       "       [0., 0., 0., 0., 0.],\n",
       "       [0., 0., 0., 0., 0.],\n",
       "       [0., 0., 0., 0., 0.],\n",
       "       [0., 0., 0., 0., 0.],\n",
       "       [0., 0., 0., 0., 0.],\n",
       "       [0., 0., 0., 0., 0.],\n",
       "       [0., 0., 0., 0., 0.],\n",
       "       [0., 0., 0., 0., 0.]])"
      ]
     },
     "execution_count": 5,
     "metadata": {},
     "output_type": "execute_result"
    }
   ],
   "source": [
    "np.zeros((10,5))"
   ]
  },
  {
   "cell_type": "markdown",
   "metadata": {},
   "source": [
    "4. Crie um array que vá de 0 a 90 pulando de 4 em 4."
   ]
  },
  {
   "cell_type": "code",
   "execution_count": 9,
   "metadata": {},
   "outputs": [
    {
     "data": {
      "text/plain": [
       "array([ 0,  4,  8, 12, 16, 20, 24, 28, 32, 36, 40, 44, 48, 52, 56, 60, 64,\n",
       "       68, 72, 76, 80, 84, 88])"
      ]
     },
     "execution_count": 9,
     "metadata": {},
     "output_type": "execute_result"
    }
   ],
   "source": [
    "np.arange(0,91,4)"
   ]
  },
  {
   "cell_type": "markdown",
   "metadata": {},
   "source": [
    "5. Reduza o array (5, 7) a apenas uma dimensão."
   ]
  },
  {
   "cell_type": "code",
   "execution_count": 20,
   "metadata": {},
   "outputs": [
    {
     "data": {
      "text/plain": [
       "array([0.819971  , 0.58393043, 0.14962542, 0.52110395, 0.74589946,\n",
       "       0.96720491, 0.90950697, 0.94445745, 0.46402521, 0.7741854 ,\n",
       "       0.95325652, 0.56870934, 0.53340377, 0.53505879, 0.51917481,\n",
       "       0.82194876, 0.81355647, 0.59865062, 0.64895319, 0.40159683,\n",
       "       0.07176029, 0.52035982, 0.95989105, 0.73570725, 0.81356072,\n",
       "       0.18067899, 0.93679439, 0.96362114, 0.19745257, 0.31566824,\n",
       "       0.15970743, 0.86570468, 0.61902506, 0.26519019, 0.18789344])"
      ]
     },
     "execution_count": 20,
     "metadata": {},
     "output_type": "execute_result"
    }
   ],
   "source": [
    "a57 = np.random.random((5,7))\n",
    "a57 = a57.flatten()\n",
    "a57"
   ]
  },
  {
   "cell_type": "markdown",
   "metadata": {},
   "source": [
    "6. Considerando que você é um organizador de um jogo de bingo, crie um array que irá representar a cartilha desses jogos de bingo. Os números das suas cartelas variam entre 1 e 30, e você terá 10 participantes. Cada cartela terá 12 números (4, 3). Crie um array que represente esse jogo."
   ]
  },
  {
   "cell_type": "code",
   "execution_count": 23,
   "metadata": {},
   "outputs": [
    {
     "data": {
      "text/plain": [
       "array([[[13, 23, 18],\n",
       "        [19,  4,  2],\n",
       "        [14, 14,  2],\n",
       "        [ 2,  9, 22]],\n",
       "\n",
       "       [[ 8, 29, 27],\n",
       "        [16,  5,  2],\n",
       "        [10, 29,  5],\n",
       "        [ 5, 17,  9]],\n",
       "\n",
       "       [[ 9, 11,  8],\n",
       "        [ 6, 28,  7],\n",
       "        [27, 20,  5],\n",
       "        [28, 20, 12]],\n",
       "\n",
       "       [[ 7, 12, 15],\n",
       "        [ 7, 19, 13],\n",
       "        [16,  6,  6],\n",
       "        [27, 20, 21]],\n",
       "\n",
       "       [[29, 28, 14],\n",
       "        [21,  4, 12],\n",
       "        [ 9, 12, 24],\n",
       "        [17,  2,  3]],\n",
       "\n",
       "       [[21, 30,  7],\n",
       "        [23, 11, 21],\n",
       "        [13, 13, 16],\n",
       "        [27, 23, 10]],\n",
       "\n",
       "       [[16,  2,  9],\n",
       "        [13,  4, 26],\n",
       "        [ 9, 25, 25],\n",
       "        [27, 14, 22]],\n",
       "\n",
       "       [[30, 23, 24],\n",
       "        [30, 14, 13],\n",
       "        [21, 22, 10],\n",
       "        [26, 26,  9]],\n",
       "\n",
       "       [[27, 27,  2],\n",
       "        [ 8, 22, 24],\n",
       "        [23, 27, 25],\n",
       "        [ 9, 10, 15]],\n",
       "\n",
       "       [[ 6, 25, 11],\n",
       "        [12,  3, 28],\n",
       "        [24, 21, 13],\n",
       "        [25,  5, 14]]])"
      ]
     },
     "execution_count": 23,
     "metadata": {},
     "output_type": "execute_result"
    }
   ],
   "source": [
    "cartela = np.random.randint(1,31,size=(10,4,3))\n",
    "cartela"
   ]
  },
  {
   "cell_type": "markdown",
   "metadata": {},
   "source": [
    "7. Faça o reshape das suas cartelas para que haja 5 cartelas de 4 linhas e 6 colunas.\n"
   ]
  },
  {
   "cell_type": "code",
   "execution_count": 24,
   "metadata": {},
   "outputs": [
    {
     "data": {
      "text/plain": [
       "array([[[13, 23, 18, 19,  4,  2],\n",
       "        [14, 14,  2,  2,  9, 22],\n",
       "        [ 8, 29, 27, 16,  5,  2],\n",
       "        [10, 29,  5,  5, 17,  9]],\n",
       "\n",
       "       [[ 9, 11,  8,  6, 28,  7],\n",
       "        [27, 20,  5, 28, 20, 12],\n",
       "        [ 7, 12, 15,  7, 19, 13],\n",
       "        [16,  6,  6, 27, 20, 21]],\n",
       "\n",
       "       [[29, 28, 14, 21,  4, 12],\n",
       "        [ 9, 12, 24, 17,  2,  3],\n",
       "        [21, 30,  7, 23, 11, 21],\n",
       "        [13, 13, 16, 27, 23, 10]],\n",
       "\n",
       "       [[16,  2,  9, 13,  4, 26],\n",
       "        [ 9, 25, 25, 27, 14, 22],\n",
       "        [30, 23, 24, 30, 14, 13],\n",
       "        [21, 22, 10, 26, 26,  9]],\n",
       "\n",
       "       [[27, 27,  2,  8, 22, 24],\n",
       "        [23, 27, 25,  9, 10, 15],\n",
       "        [ 6, 25, 11, 12,  3, 28],\n",
       "        [24, 21, 13, 25,  5, 14]]])"
      ]
     },
     "execution_count": 24,
     "metadata": {},
     "output_type": "execute_result"
    }
   ],
   "source": [
    "cartela.reshape((5,4,6))"
   ]
  },
  {
   "cell_type": "markdown",
   "metadata": {},
   "source": [
    "Manipulando Arrays:\n",
    "\n",
    "1. Explorando Ecossistemas: \n",
    "Como bióloga marinha, me encontrei em uma expedição nas profundezas do Oceano Pacífico, onde estávamos estudando a biodiversidade e a saúde dos recifes de coral. O catálogo abaixo demonstra dados das espécies encontradas, considere a seguinte ordem de colunas:\n",
    "\n",
    "ID da espécie, quantidade de representantes encontrados, profundeza, tamanho médio da espécie.\n"
   ]
  },
  {
   "cell_type": "code",
   "execution_count": 6,
   "metadata": {},
   "outputs": [
    {
     "data": {
      "text/plain": [
       "array([ 89, 123,  22, 101,  56,  64,  84, 105, 103, 124])"
      ]
     },
     "execution_count": 6,
     "metadata": {},
     "output_type": "execute_result"
    }
   ],
   "source": [
    "especies = np.array([[747, 89, 33, 5], \n",
    "                     [623, 123, 32, 13], \n",
    "                     [501, 22, 49, 2], \n",
    "                     [116, 101, 42, 10], \n",
    "                     [297, 56, 69, 22], \n",
    "                     [613, 64, 27, 7], \n",
    "                     [295, 84, 29, 14], \n",
    "                     [692, 105, 72, 16], \n",
    "                     [229, 103, 35, 5], \n",
    "                     [374, 124, 70, 1]])\n",
    "especies"
   ]
  },
  {
   "cell_type": "markdown",
   "metadata": {},
   "source": [
    "- a. Selecione a segunda coluna com a quantidade de representantes encontrados e adicione em um array como qtd_especies."
   ]
  },
  {
   "cell_type": "code",
   "execution_count": 7,
   "metadata": {},
   "outputs": [
    {
     "data": {
      "text/plain": [
       "array([ 89, 123,  22, 101,  56,  64,  84, 105, 103, 124])"
      ]
     },
     "execution_count": 7,
     "metadata": {},
     "output_type": "execute_result"
    }
   ],
   "source": [
    "qtd_especies = especies[:,1]\n",
    "qtd_especies"
   ]
  },
  {
   "cell_type": "markdown",
   "metadata": {},
   "source": [
    "- b. De qtd_especies, selecione apenas as primeiras 3 quantidades e imprima."
   ]
  },
  {
   "cell_type": "code",
   "execution_count": 8,
   "metadata": {},
   "outputs": [
    {
     "name": "stdout",
     "output_type": "stream",
     "text": [
      "[ 89 123  22]\n"
     ]
    }
   ],
   "source": [
    "print(qtd_especies[0:3])"
   ]
  },
  {
   "cell_type": "markdown",
   "metadata": {},
   "source": [
    "- c. Imprima as 5 últimas quantidades de espécies."
   ]
  },
  {
   "cell_type": "code",
   "execution_count": 10,
   "metadata": {},
   "outputs": [
    {
     "name": "stdout",
     "output_type": "stream",
     "text": [
      "[ 64  84 105 103 124]\n"
     ]
    }
   ],
   "source": [
    "print(qtd_especies[-5:])"
   ]
  },
  {
   "cell_type": "markdown",
   "metadata": {},
   "source": [
    "- d. Crie um array que contenha apenas os tamanhos das espécies e ordene por ordem crescente."
   ]
  },
  {
   "cell_type": "code",
   "execution_count": 12,
   "metadata": {},
   "outputs": [
    {
     "data": {
      "text/plain": [
       "array([ 1,  2,  5,  5,  7, 10, 13, 14, 16, 22])"
      ]
     },
     "execution_count": 12,
     "metadata": {},
     "output_type": "execute_result"
    }
   ],
   "source": [
    "np.sort(especies[:,3])"
   ]
  },
  {
   "cell_type": "markdown",
   "metadata": {},
   "source": [
    "2. Ainda usando o Array de espécies.\n",
    "\n",
    "    a. Usando um index boolean, crie um array que contenha os dados da maior espécie encontrada \n",
    "    (considerando o seu tamanho). Esse valor corresponde ao valor 22.\n",
    "\n",
    "    b. Usando fancy index, faça um array que contenha apenas os dados da espécie com ID 297.\n",
    "\n",
    "    c. Usando np.where(), faça um array com a linha contendo dados \n",
    "    correspondentes à espécie com 105 representantes encontrados.\n",
    "\n",
    "    d. Considere a profundidade em que a espécie foi encontrada e substitua \n",
    "    valores maiores que 60 com \"Profundo\".\n",
    "\n"
   ]
  },
  {
   "cell_type": "code",
   "execution_count": null,
   "metadata": {},
   "outputs": [],
   "source": []
  },
  {
   "cell_type": "markdown",
   "metadata": {},
   "source": [
    "Ainda no conjunto 'especies':\n",
    "\n",
    "a. Adicione mais 2 espécies ao array: [[204, 10, 40, 12], [392, 11, 81, 11]].\n",
    "\n",
    "b. Adicione mais uma coluna no array original agora com o número de espécies encontradas, indicando se o animal enxerga ou não: [0, 1, 0, 0, 0, 0, 1, 0, 1, 1, 0].\n",
    "\n"
   ]
  },
  {
   "cell_type": "code",
   "execution_count": null,
   "metadata": {},
   "outputs": [],
   "source": []
  },
  {
   "cell_type": "markdown",
   "metadata": {},
   "source": [
    "Cálculo com Array:\n",
    "\n",
    "Considerando o array abaixo, responda:\n",
    "\n",
    "acidentes = np.array([[1, 3, 2], [0, 1, 0], [2, 1, 4], [0, 0, 0], [1, 1, 0]])\n",
    "\n",
    "1. O cliente que teve acidente abaixo da média nos últimos 2 anos ganhará um desconto no seu seguro. \n",
    "Identifique-os.\n",
    "\n",
    "2. Qual cliente teve pelo menos 2 anos sem cometer acidentes?\n",
    "\n",
    "3. Uma professora quer que seus alunos apliquem a função (3x + 2y + xy) em um conjunto de dados. \n",
    "Ela dá dois arrays aos estudantes e pede que seja feita essa operação.\n",
    "\n",
    "4. A mesma professora percebeu que houve um erro em todas as provas dos estudantes e \n",
    "esqueceu de anotar a nota de trabalhos apresentados durante o semestre. \n",
    "Já que foi feito em grupo ela vai adicionar a mesma nota para todos os estudantes. \n",
    "No array, cada estudante representa uma linha e cada coluna uma prova. \n",
    "Adicione para cada prova de cada estudante os valores: 1, 2, 1."
   ]
  }
 ],
 "metadata": {
  "kernelspec": {
   "display_name": "Python 3",
   "language": "python",
   "name": "python3"
  },
  "language_info": {
   "codemirror_mode": {
    "name": "ipython",
    "version": 3
   },
   "file_extension": ".py",
   "mimetype": "text/x-python",
   "name": "python",
   "nbconvert_exporter": "python",
   "pygments_lexer": "ipython3",
   "version": "3.12.1"
  }
 },
 "nbformat": 4,
 "nbformat_minor": 2
}
