{
 "cells": [
  {
   "cell_type": "markdown",
   "metadata": {},
   "source": [
    "# Python para Dados - Atividade de Fixação Numpy  "
   ]
  },
  {
   "cell_type": "code",
   "execution_count": 1,
   "metadata": {},
   "outputs": [],
   "source": [
    "import numpy as np"
   ]
  },
  {
   "cell_type": "markdown",
   "metadata": {},
   "source": [
    "Atividades Introdutórias:\n",
    "\n",
    "1. Crie um array com 4 linhas e 3 colunas com valores aleatórios.  "
   ]
  },
  {
   "cell_type": "code",
   "execution_count": 2,
   "metadata": {},
   "outputs": [
    {
     "data": {
      "text/plain": [
       "array([[0.71107387, 0.71949797, 0.91233158],\n",
       "       [0.6347197 , 0.31314613, 0.05393124],\n",
       "       [0.1179061 , 0.76161776, 0.59187087],\n",
       "       [0.8178129 , 0.84225675, 0.85521913]])"
      ]
     },
     "execution_count": 2,
     "metadata": {},
     "output_type": "execute_result"
    }
   ],
   "source": [
    "np.random.random((4,3))"
   ]
  },
  {
   "cell_type": "markdown",
   "metadata": {},
   "source": [
    "2. Crie um array com valores inteiros, 3 linhas e 5 colunas com valores aleatórios."
   ]
  },
  {
   "cell_type": "code",
   "execution_count": 4,
   "metadata": {},
   "outputs": [
    {
     "data": {
      "text/plain": [
       "array([[20, 14, 27, 21, 21],\n",
       "       [18, 27, 16, 29, 17],\n",
       "       [28, 24, 15, 18, 18]])"
      ]
     },
     "execution_count": 4,
     "metadata": {},
     "output_type": "execute_result"
    }
   ],
   "source": [
    "np.random.randint(10,30, size=(3,5))"
   ]
  },
  {
   "cell_type": "markdown",
   "metadata": {},
   "source": [
    "3. Crie um array com 5 colunas e 10 linhas inicializados com zeros."
   ]
  },
  {
   "cell_type": "code",
   "execution_count": 5,
   "metadata": {},
   "outputs": [
    {
     "data": {
      "text/plain": [
       "array([[0., 0., 0., 0., 0.],\n",
       "       [0., 0., 0., 0., 0.],\n",
       "       [0., 0., 0., 0., 0.],\n",
       "       [0., 0., 0., 0., 0.],\n",
       "       [0., 0., 0., 0., 0.],\n",
       "       [0., 0., 0., 0., 0.],\n",
       "       [0., 0., 0., 0., 0.],\n",
       "       [0., 0., 0., 0., 0.],\n",
       "       [0., 0., 0., 0., 0.],\n",
       "       [0., 0., 0., 0., 0.]])"
      ]
     },
     "execution_count": 5,
     "metadata": {},
     "output_type": "execute_result"
    }
   ],
   "source": [
    "np.zeros((10,5))"
   ]
  },
  {
   "cell_type": "markdown",
   "metadata": {},
   "source": [
    "4. Crie um array que vá de 0 a 90 pulando de 4 em 4."
   ]
  },
  {
   "cell_type": "code",
   "execution_count": 9,
   "metadata": {},
   "outputs": [
    {
     "data": {
      "text/plain": [
       "array([ 0,  4,  8, 12, 16, 20, 24, 28, 32, 36, 40, 44, 48, 52, 56, 60, 64,\n",
       "       68, 72, 76, 80, 84, 88])"
      ]
     },
     "execution_count": 9,
     "metadata": {},
     "output_type": "execute_result"
    }
   ],
   "source": [
    "np.arange(0,91,4)"
   ]
  },
  {
   "cell_type": "markdown",
   "metadata": {},
   "source": [
    "5. Reduza o array (5, 7) a apenas uma dimensão."
   ]
  },
  {
   "cell_type": "code",
   "execution_count": 20,
   "metadata": {},
   "outputs": [
    {
     "data": {
      "text/plain": [
       "array([0.819971  , 0.58393043, 0.14962542, 0.52110395, 0.74589946,\n",
       "       0.96720491, 0.90950697, 0.94445745, 0.46402521, 0.7741854 ,\n",
       "       0.95325652, 0.56870934, 0.53340377, 0.53505879, 0.51917481,\n",
       "       0.82194876, 0.81355647, 0.59865062, 0.64895319, 0.40159683,\n",
       "       0.07176029, 0.52035982, 0.95989105, 0.73570725, 0.81356072,\n",
       "       0.18067899, 0.93679439, 0.96362114, 0.19745257, 0.31566824,\n",
       "       0.15970743, 0.86570468, 0.61902506, 0.26519019, 0.18789344])"
      ]
     },
     "execution_count": 20,
     "metadata": {},
     "output_type": "execute_result"
    }
   ],
   "source": [
    "a57 = np.random.random((5,7))\n",
    "a57 = a57.flatten()\n",
    "a57"
   ]
  },
  {
   "cell_type": "markdown",
   "metadata": {},
   "source": [
    "6. Considerando que você é um organizador de um jogo de bingo, crie um array que irá representar a cartilha desses jogos de bingo. Os números das suas cartelas variam entre 1 e 30, e você terá 10 participantes. Cada cartela terá 12 números (4, 3). Crie um array que represente esse jogo."
   ]
  },
  {
   "cell_type": "code",
   "execution_count": 23,
   "metadata": {},
   "outputs": [
    {
     "data": {
      "text/plain": [
       "array([[[13, 23, 18],\n",
       "        [19,  4,  2],\n",
       "        [14, 14,  2],\n",
       "        [ 2,  9, 22]],\n",
       "\n",
       "       [[ 8, 29, 27],\n",
       "        [16,  5,  2],\n",
       "        [10, 29,  5],\n",
       "        [ 5, 17,  9]],\n",
       "\n",
       "       [[ 9, 11,  8],\n",
       "        [ 6, 28,  7],\n",
       "        [27, 20,  5],\n",
       "        [28, 20, 12]],\n",
       "\n",
       "       [[ 7, 12, 15],\n",
       "        [ 7, 19, 13],\n",
       "        [16,  6,  6],\n",
       "        [27, 20, 21]],\n",
       "\n",
       "       [[29, 28, 14],\n",
       "        [21,  4, 12],\n",
       "        [ 9, 12, 24],\n",
       "        [17,  2,  3]],\n",
       "\n",
       "       [[21, 30,  7],\n",
       "        [23, 11, 21],\n",
       "        [13, 13, 16],\n",
       "        [27, 23, 10]],\n",
       "\n",
       "       [[16,  2,  9],\n",
       "        [13,  4, 26],\n",
       "        [ 9, 25, 25],\n",
       "        [27, 14, 22]],\n",
       "\n",
       "       [[30, 23, 24],\n",
       "        [30, 14, 13],\n",
       "        [21, 22, 10],\n",
       "        [26, 26,  9]],\n",
       "\n",
       "       [[27, 27,  2],\n",
       "        [ 8, 22, 24],\n",
       "        [23, 27, 25],\n",
       "        [ 9, 10, 15]],\n",
       "\n",
       "       [[ 6, 25, 11],\n",
       "        [12,  3, 28],\n",
       "        [24, 21, 13],\n",
       "        [25,  5, 14]]])"
      ]
     },
     "execution_count": 23,
     "metadata": {},
     "output_type": "execute_result"
    }
   ],
   "source": [
    "cartela = np.random.randint(1,31,size=(10,4,3))\n",
    "cartela"
   ]
  },
  {
   "cell_type": "markdown",
   "metadata": {},
   "source": [
    "7. Faça o reshape das suas cartelas para que haja 5 cartelas de 4 linhas e 6 colunas.\n"
   ]
  },
  {
   "cell_type": "code",
   "execution_count": 24,
   "metadata": {},
   "outputs": [
    {
     "data": {
      "text/plain": [
       "array([[[13, 23, 18, 19,  4,  2],\n",
       "        [14, 14,  2,  2,  9, 22],\n",
       "        [ 8, 29, 27, 16,  5,  2],\n",
       "        [10, 29,  5,  5, 17,  9]],\n",
       "\n",
       "       [[ 9, 11,  8,  6, 28,  7],\n",
       "        [27, 20,  5, 28, 20, 12],\n",
       "        [ 7, 12, 15,  7, 19, 13],\n",
       "        [16,  6,  6, 27, 20, 21]],\n",
       "\n",
       "       [[29, 28, 14, 21,  4, 12],\n",
       "        [ 9, 12, 24, 17,  2,  3],\n",
       "        [21, 30,  7, 23, 11, 21],\n",
       "        [13, 13, 16, 27, 23, 10]],\n",
       "\n",
       "       [[16,  2,  9, 13,  4, 26],\n",
       "        [ 9, 25, 25, 27, 14, 22],\n",
       "        [30, 23, 24, 30, 14, 13],\n",
       "        [21, 22, 10, 26, 26,  9]],\n",
       "\n",
       "       [[27, 27,  2,  8, 22, 24],\n",
       "        [23, 27, 25,  9, 10, 15],\n",
       "        [ 6, 25, 11, 12,  3, 28],\n",
       "        [24, 21, 13, 25,  5, 14]]])"
      ]
     },
     "execution_count": 24,
     "metadata": {},
     "output_type": "execute_result"
    }
   ],
   "source": [
    "cartela.reshape((5,4,6))"
   ]
  },
  {
   "cell_type": "markdown",
   "metadata": {},
   "source": [
    "Manipulando Arrays:\n",
    "\n",
    "1. Explorando Ecossistemas: \n",
    "Como bióloga marinha, me encontrei em uma expedição nas profundezas do Oceano Pacífico, onde estávamos estudando a biodiversidade e a saúde dos recifes de coral. O catálogo abaixo demonstra dados das espécies encontradas, considere a seguinte ordem de colunas:\n",
    "\n",
    "ID da espécie, quantidade de representantes encontrados, profundeza, tamanho médio da espécie.\n"
   ]
  },
  {
   "cell_type": "code",
   "execution_count": 2,
   "metadata": {},
   "outputs": [
    {
     "data": {
      "text/plain": [
       "array([[747,  89,  33,   5],\n",
       "       [623, 123,  32,  13],\n",
       "       [501,  22,  49,   2],\n",
       "       [116, 101,  42,  10],\n",
       "       [297,  56,  69,  22],\n",
       "       [613,  64,  27,   7],\n",
       "       [295,  84,  29,  14],\n",
       "       [692, 105,  72,  16],\n",
       "       [229, 103,  35,   5],\n",
       "       [374, 124,  70,   1]])"
      ]
     },
     "execution_count": 2,
     "metadata": {},
     "output_type": "execute_result"
    }
   ],
   "source": [
    "especies = np.array([[747, 89, 33, 5], \n",
    "                     [623, 123, 32, 13], \n",
    "                     [501, 22, 49, 2], \n",
    "                     [116, 101, 42, 10], \n",
    "                     [297, 56, 69, 22], \n",
    "                     [613, 64, 27, 7], \n",
    "                     [295, 84, 29, 14], \n",
    "                     [692, 105, 72, 16], \n",
    "                     [229, 103, 35, 5], \n",
    "                     [374, 124, 70, 1]])\n",
    "especies"
   ]
  },
  {
   "cell_type": "markdown",
   "metadata": {},
   "source": [
    "- a. Selecione a segunda coluna com a quantidade de representantes encontrados e adicione em um array como qtd_especies."
   ]
  },
  {
   "cell_type": "code",
   "execution_count": 7,
   "metadata": {},
   "outputs": [
    {
     "data": {
      "text/plain": [
       "array([ 89, 123,  22, 101,  56,  64,  84, 105, 103, 124])"
      ]
     },
     "execution_count": 7,
     "metadata": {},
     "output_type": "execute_result"
    }
   ],
   "source": [
    "qtd_especies = especies[:,1]\n",
    "qtd_especies"
   ]
  },
  {
   "cell_type": "markdown",
   "metadata": {},
   "source": [
    "- b. De qtd_especies, selecione apenas as primeiras 3 quantidades e imprima."
   ]
  },
  {
   "cell_type": "code",
   "execution_count": 8,
   "metadata": {},
   "outputs": [
    {
     "name": "stdout",
     "output_type": "stream",
     "text": [
      "[ 89 123  22]\n"
     ]
    }
   ],
   "source": [
    "print(qtd_especies[0:3])"
   ]
  },
  {
   "cell_type": "markdown",
   "metadata": {},
   "source": [
    "- c. Imprima as 5 últimas quantidades de espécies."
   ]
  },
  {
   "cell_type": "code",
   "execution_count": 10,
   "metadata": {},
   "outputs": [
    {
     "name": "stdout",
     "output_type": "stream",
     "text": [
      "[ 64  84 105 103 124]\n"
     ]
    }
   ],
   "source": [
    "print(qtd_especies[-5:])"
   ]
  },
  {
   "cell_type": "markdown",
   "metadata": {},
   "source": [
    "- d. Crie um array que contenha apenas os tamanhos das espécies e ordene por ordem crescente."
   ]
  },
  {
   "cell_type": "code",
   "execution_count": 12,
   "metadata": {},
   "outputs": [
    {
     "data": {
      "text/plain": [
       "array([ 1,  2,  5,  5,  7, 10, 13, 14, 16, 22])"
      ]
     },
     "execution_count": 12,
     "metadata": {},
     "output_type": "execute_result"
    }
   ],
   "source": [
    "np.sort(especies[:,3])"
   ]
  },
  {
   "cell_type": "markdown",
   "metadata": {},
   "source": [
    "2. Ainda usando o Array de espécies.\n",
    "\n",
    "    a. Usando um index boolean, crie um array que contenha os dados da maior espécie encontrada \n",
    "    (considerando o seu tamanho). Esse valor corresponde ao valor 22.\n",
    "\n"
   ]
  },
  {
   "cell_type": "code",
   "execution_count": 11,
   "metadata": {},
   "outputs": [
    {
     "data": {
      "text/plain": [
       "array([[297,  56,  69,  22]])"
      ]
     },
     "execution_count": 11,
     "metadata": {},
     "output_type": "execute_result"
    }
   ],
   "source": [
    "especies[:,3] == 22\n",
    "maior_especie = especies[especies[:,3] == 22]\n",
    "maior_especie"
   ]
  },
  {
   "cell_type": "markdown",
   "metadata": {},
   "source": [
    "b. Usando fancy index, faça um array que contenha apenas os dados da espécie com ID 297."
   ]
  },
  {
   "cell_type": "code",
   "execution_count": 8,
   "metadata": {},
   "outputs": [
    {
     "data": {
      "text/plain": [
       "array([[297,  56,  69,  22]])"
      ]
     },
     "execution_count": 8,
     "metadata": {},
     "output_type": "execute_result"
    }
   ],
   "source": [
    "mask_297 = especies[:,0] == 297\n",
    "especies[mask_297]"
   ]
  },
  {
   "cell_type": "markdown",
   "metadata": {},
   "source": [
    "c. Usando np.where(), faça um array com a linha contendo dados correspondentes à espécie com 105 representantes encontrados."
   ]
  },
  {
   "cell_type": "code",
   "execution_count": 13,
   "metadata": {},
   "outputs": [
    {
     "data": {
      "text/plain": [
       "array([[692, 105,  72,  16]])"
      ]
     },
     "execution_count": 13,
     "metadata": {},
     "output_type": "execute_result"
    }
   ],
   "source": [
    "np.where(especies[:,1] == 105)\n",
    "especies[np.where(especies[:,1] == 105)]"
   ]
  },
  {
   "cell_type": "markdown",
   "metadata": {},
   "source": [
    "d. Considere a profundidade em que a espécie foi encontrada e substitua valores maiores que 60 com \"Profundo\"."
   ]
  },
  {
   "cell_type": "code",
   "execution_count": 16,
   "metadata": {},
   "outputs": [
    {
     "data": {
      "text/plain": [
       "array(['33', '32', '49', '42', 'Profundo', '27', '29', 'Profundo', '35',\n",
       "       'Profundo'], dtype='<U11')"
      ]
     },
     "execution_count": 16,
     "metadata": {},
     "output_type": "execute_result"
    }
   ],
   "source": [
    "especies[:,2] > 60\n",
    "np.where(especies[:,2] > 60, \"Profundo\", especies[:,2])"
   ]
  },
  {
   "cell_type": "markdown",
   "metadata": {},
   "source": [
    "Ainda no conjunto 'especies':\n",
    "\n",
    "a. Adicione mais 2 espécies ao array: [[204, 10, 40, 12], [392, 11, 81, 11]].\n",
    "\n"
   ]
  },
  {
   "cell_type": "code",
   "execution_count": 6,
   "metadata": {},
   "outputs": [
    {
     "data": {
      "text/plain": [
       "array([[747,  89,  33,   5],\n",
       "       [623, 123,  32,  13],\n",
       "       [501,  22,  49,   2],\n",
       "       [116, 101,  42,  10],\n",
       "       [297,  56,  69,  22],\n",
       "       [613,  64,  27,   7],\n",
       "       [295,  84,  29,  14],\n",
       "       [692, 105,  72,  16],\n",
       "       [229, 103,  35,   5],\n",
       "       [374, 124,  70,   1],\n",
       "       [204,  10,  40,  12],\n",
       "       [392,  11,  81,  11]])"
      ]
     },
     "execution_count": 6,
     "metadata": {},
     "output_type": "execute_result"
    }
   ],
   "source": [
    "novas_especies = np.array([[204, 10, 40, 12], [392, 11, 81, 11]])\n",
    "especies_novo = np.concatenate((especies,novas_especies))\n",
    "especies_novo"
   ]
  },
  {
   "cell_type": "markdown",
   "metadata": {},
   "source": [
    "b. Adicione mais uma coluna no array original agora com o número de espécies encontradas, indicando se o animal enxerga ou não: [0, 1, 0, 0, 0, 0, 1, 0, 1, 1, 0]."
   ]
  },
  {
   "cell_type": "code",
   "execution_count": 11,
   "metadata": {},
   "outputs": [
    {
     "data": {
      "text/plain": [
       "array([[747,  89,  33,   5,   0],\n",
       "       [623, 123,  32,  13,   1],\n",
       "       [501,  22,  49,   2,   0],\n",
       "       [116, 101,  42,  10,   0],\n",
       "       [297,  56,  69,  22,   0],\n",
       "       [613,  64,  27,   7,   0],\n",
       "       [295,  84,  29,  14,   1],\n",
       "       [692, 105,  72,  16,   0],\n",
       "       [229, 103,  35,   5,   1],\n",
       "       [374, 124,  70,   1,   1]])"
      ]
     },
     "execution_count": 11,
     "metadata": {},
     "output_type": "execute_result"
    }
   ],
   "source": [
    "visao = np.array([[0, 1, 0, 0, 0, 0, 1, 0, 1, 1]]).reshape((10,1))\n",
    "np.concatenate((especies,visao), axis=1)"
   ]
  },
  {
   "cell_type": "markdown",
   "metadata": {},
   "source": [
    "Cálculo com Array:\n",
    "\n",
    "Considerando o array abaixo, responda:\n",
    "\n",
    "acidentes = np.array([[1, 3, 2], [0, 1, 0], [2, 1, 4], [0, 0, 0], [1, 1, 0]])\n",
    "\n",
    "Sendo as colunas os clientes, e as linhas a quantidade de acidentes em cada ano.\n"
   ]
  },
  {
   "cell_type": "code",
   "execution_count": 13,
   "metadata": {},
   "outputs": [
    {
     "data": {
      "text/plain": [
       "array([[1, 3, 2],\n",
       "       [0, 1, 0],\n",
       "       [2, 1, 4],\n",
       "       [0, 0, 0],\n",
       "       [1, 1, 0]])"
      ]
     },
     "execution_count": 13,
     "metadata": {},
     "output_type": "execute_result"
    }
   ],
   "source": [
    "acidentes = np.array([[1, 3, 2], [0, 1, 0], [2, 1, 4], [0, 0, 0], [1, 1, 0]])\n",
    "acidentes"
   ]
  },
  {
   "cell_type": "markdown",
   "metadata": {},
   "source": [
    "1. O cliente que teve acidente abaixo da média nos últimos 2 anos ganhará um desconto no seu seguro. \n",
    "Identifique-os."
   ]
  },
  {
   "cell_type": "code",
   "execution_count": 50,
   "metadata": {},
   "outputs": [
    {
     "name": "stdout",
     "output_type": "stream",
     "text": [
      "Clientes com desconto no seguro: [0 1 2]\n",
      "Sendo a média de acidentes total: 1.0666666666666667\n",
      "A soma de acidentes por cliente nos ultimos 2 anos: [1 1 0]\n",
      "Sendo o número de acidentes dos últimos 2 anos: [[0 0 0]\n",
      " [1 1 0]]\n"
     ]
    }
   ],
   "source": [
    "# ultimos 2 anos = 2 ultimas linhas\n",
    "# Calculando a média de acidentes para os dois últimos anos\n",
    "media_acidentes = np.mean(acidentes)\n",
    "\n",
    "# Identificando os dois últimos anos\n",
    "ultimos_2anos = acidentes[-2:]\n",
    "\n",
    "# Quantidade de acidentes por cliente nos ultimos 2 anos\n",
    "qtd_acidentes_ultimos2anos = ultimos_2anos.sum(axis=0)\n",
    "\n",
    "# Verificando quais clientes tiveram acidentes abaixo da média nos dois últimos anos\n",
    "clientes_com_desconto = np.where((qtd_acidentes_ultimos2anos < media_acidentes))[0]\n",
    "\n",
    "print(\"Clientes com desconto no seguro:\", clientes_com_desconto)\n",
    "print(\"Sendo a média de acidentes total:\", media_acidentes)\n",
    "print(\"A soma de acidentes por cliente nos ultimos 2 anos:\", qtd_acidentes_ultimos2anos)\n",
    "print(\"Sendo o número de acidentes dos últimos 2 anos:\", ultimos_2anos)"
   ]
  },
  {
   "cell_type": "markdown",
   "metadata": {},
   "source": [
    "2. Qual cliente teve pelo menos 2 anos sem cometer acidentes?\n",
    "\n"
   ]
  },
  {
   "cell_type": "code",
   "execution_count": 52,
   "metadata": {},
   "outputs": [
    {
     "name": "stdout",
     "output_type": "stream",
     "text": [
      "Clientes com pelo menos 2 anos sem acidentes: [0 2]\n"
     ]
    }
   ],
   "source": [
    "# Podemos resolver isso verificando se o número de acidentes em cada ano para cada cliente é zero por pelo menos duas vezes.\n",
    "\n",
    "clientes_sem_acidentes = np.where((acidentes == 0).sum(axis=0) >= 2)[0]\n",
    "\n",
    "print(\"Clientes com pelo menos 2 anos sem acidentes:\", clientes_sem_acidentes)"
   ]
  },
  {
   "cell_type": "markdown",
   "metadata": {},
   "source": [
    "3. Uma professora quer que seus alunos apliquem a função (3x + 2y + xy) em um conjunto de dados. \n",
    "Ela dá dois arrays aos estudantes e pede que seja feita essa operação.\n",
    "\n"
   ]
  },
  {
   "cell_type": "code",
   "execution_count": 53,
   "metadata": {},
   "outputs": [
    {
     "name": "stdout",
     "output_type": "stream",
     "text": [
      "Resultado da função (3x + 2y + xy): [18 30 44 60]\n"
     ]
    }
   ],
   "source": [
    "# Definindo os arrays x e y\n",
    "x = np.array([1, 2, 3, 4])\n",
    "y = np.array([5, 6, 7, 8])\n",
    "\n",
    "# Aplicando a função 3x + 2y + xy\n",
    "resultado = 3*x + 2*y + x*y\n",
    "\n",
    "# Exibindo o resultado\n",
    "print(\"Resultado da função (3x + 2y + xy):\", resultado)"
   ]
  },
  {
   "cell_type": "markdown",
   "metadata": {},
   "source": [
    "4. A mesma professora percebeu que houve um erro em todas as provas dos estudantes e \n",
    "esqueceu de anotar a nota de trabalhos apresentados durante o semestre. \n",
    "Já que foi feito em grupo ela vai adicionar a mesma nota para todos os estudantes. \n",
    "No array, cada estudante representa uma linha e cada coluna uma prova. \n",
    "Adicione para cada prova de cada estudante os valores: 1, 2, 1."
   ]
  },
  {
   "cell_type": "code",
   "execution_count": 54,
   "metadata": {},
   "outputs": [
    {
     "name": "stdout",
     "output_type": "stream",
     "text": [
      "Notas das provas corrigidas:\n",
      " [[11 10  8]\n",
      " [10  9  7]\n",
      " [ 9  8  6]]\n"
     ]
    }
   ],
   "source": [
    "# Definindo o array de notas das provas dos estudantes\n",
    "notas_provas = np.array([[10, 8, 7], [9, 7, 6], [8, 6, 5]])\n",
    "\n",
    "# Valores a serem adicionados para cada prova de cada estudante\n",
    "valores_a_adicionar = np.array([[1, 2, 1]])\n",
    "\n",
    "# Adicionando os valores para todas as provas de todos os estudantes\n",
    "notas_provas_corrigidas = notas_provas + valores_a_adicionar\n",
    "\n",
    "# Exibindo o resultado\n",
    "print(\"Notas das provas corrigidas:\\n\", notas_provas_corrigidas)"
   ]
  }
 ],
 "metadata": {
  "kernelspec": {
   "display_name": "Python 3",
   "language": "python",
   "name": "python3"
  },
  "language_info": {
   "codemirror_mode": {
    "name": "ipython",
    "version": 3
   },
   "file_extension": ".py",
   "mimetype": "text/x-python",
   "name": "python",
   "nbconvert_exporter": "python",
   "pygments_lexer": "ipython3",
   "version": "3.12.1"
  }
 },
 "nbformat": 4,
 "nbformat_minor": 2
}
