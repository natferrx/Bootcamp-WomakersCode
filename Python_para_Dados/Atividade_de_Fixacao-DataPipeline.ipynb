{
  "cells": [
    {
      "cell_type": "markdown",
      "metadata": {},
      "source": [
        "# Python para Dados - Atividade de Fixação Data Pipeline"
      ]
    },
    {
      "cell_type": "markdown",
      "metadata": {},
      "source": [
        "*Utilização da API do Portal da Transparência*\n",
        "\n",
        "Para a execução desta atividade é necessário a criação de um cadastro no Portal da Transparência:\n",
        "(https://portaldatransparencia.gov.br/api-de-dados/cadastrar-email)\n",
        "\n",
        "# ATENÇÃO: para o código funcionar, coloque a sua chave de acesso ao Portal da Transparencia no local indicado."
      ]
    },
    {
      "cell_type": "code",
      "execution_count": 1,
      "metadata": {
        "id": "1qjOSZhBFu3z"
      },
      "outputs": [],
      "source": [
        "import requests\n",
        "import json\n",
        "import numpy as np\n",
        "import pandas as pd\n",
        "import seaborn as sns\n",
        "import matplotlib.pyplot as plt\n",
        "import logging"
      ]
    },
    {
      "cell_type": "markdown",
      "metadata": {
        "id": "3sdftdAfbT1w"
      },
      "source": [
        "### Minha API"
      ]
    },
    {
      "cell_type": "code",
      "execution_count": 2,
      "metadata": {
        "id": "ambrjpMZbSfm"
      },
      "outputs": [],
      "source": [
        "headers = {\"chave-api-dados\" : \"COLOQUE SEU CODIGO AQUI\"}\n"
      ]
    },
    {
      "cell_type": "markdown",
      "metadata": {
        "id": "rPD2DjJ7bZzC"
      },
      "source": [
        "### Acesso ao portal da transparência do governo federal playground para a criação da extração"
      ]
    },
    {
      "cell_type": "code",
      "execution_count": 3,
      "metadata": {
        "id": "1BirBE6LFK_0"
      },
      "outputs": [],
      "source": [
        "url = 'https://api.portaldatransparencia.gov.br/api-de-dados/emendas?ano=2022&pagina=1'\n",
        "\n",
        "resposta_ = requests.get(url, headers=headers)"
      ]
    },
    {
      "cell_type": "code",
      "execution_count": 4,
      "metadata": {
        "id": "urVqSc0FWdH2"
      },
      "outputs": [
        {
          "data": {
            "text/html": [
              "<div>\n",
              "<style scoped>\n",
              "    .dataframe tbody tr th:only-of-type {\n",
              "        vertical-align: middle;\n",
              "    }\n",
              "\n",
              "    .dataframe tbody tr th {\n",
              "        vertical-align: top;\n",
              "    }\n",
              "\n",
              "    .dataframe thead th {\n",
              "        text-align: right;\n",
              "    }\n",
              "</style>\n",
              "<table border=\"1\" class=\"dataframe\">\n",
              "  <thead>\n",
              "    <tr style=\"text-align: right;\">\n",
              "      <th></th>\n",
              "      <th>codigoEmenda</th>\n",
              "      <th>ano</th>\n",
              "      <th>tipoEmenda</th>\n",
              "      <th>autor</th>\n",
              "      <th>nomeAutor</th>\n",
              "      <th>numeroEmenda</th>\n",
              "      <th>localidadeDoGasto</th>\n",
              "      <th>funcao</th>\n",
              "      <th>subfuncao</th>\n",
              "      <th>valorEmpenhado</th>\n",
              "      <th>valorLiquidado</th>\n",
              "      <th>valorPago</th>\n",
              "      <th>valorRestoInscrito</th>\n",
              "      <th>valorRestoCancelado</th>\n",
              "      <th>valorRestoPago</th>\n",
              "    </tr>\n",
              "  </thead>\n",
              "  <tbody>\n",
              "    <tr>\n",
              "      <th>0</th>\n",
              "      <td>202250170002</td>\n",
              "      <td>2022</td>\n",
              "      <td>Emenda de Comissão</td>\n",
              "      <td>COM. FINANCAS E TRIBUTACAO</td>\n",
              "      <td>COM. FINANCAS E TRIBUTACAO</td>\n",
              "      <td>0002</td>\n",
              "      <td>Nacional</td>\n",
              "      <td>Administração</td>\n",
              "      <td>Ensino superior</td>\n",
              "      <td>3.560,00</td>\n",
              "      <td>3.560,00</td>\n",
              "      <td>0,00</td>\n",
              "      <td>3.560,00</td>\n",
              "      <td>0,00</td>\n",
              "      <td>3.560,00</td>\n",
              "    </tr>\n",
              "    <tr>\n",
              "      <th>1</th>\n",
              "      <td>202281000305</td>\n",
              "      <td>2022</td>\n",
              "      <td>Emenda de Relator</td>\n",
              "      <td>RELATOR GERAL</td>\n",
              "      <td>RELATOR GERAL</td>\n",
              "      <td>0305</td>\n",
              "      <td>Nacional</td>\n",
              "      <td>Assistência social</td>\n",
              "      <td>Alimentação e nutrição</td>\n",
              "      <td>8.037,30</td>\n",
              "      <td>8.037,30</td>\n",
              "      <td>8.037,30</td>\n",
              "      <td>0,00</td>\n",
              "      <td>0,00</td>\n",
              "      <td>0,00</td>\n",
              "    </tr>\n",
              "    <tr>\n",
              "      <th>2</th>\n",
              "      <td>202237370006</td>\n",
              "      <td>2022</td>\n",
              "      <td>Emenda Individual</td>\n",
              "      <td>ORLANDO SILVA</td>\n",
              "      <td>ORLANDO SILVA</td>\n",
              "      <td>0006</td>\n",
              "      <td>SÃO PAULO (UF)</td>\n",
              "      <td>Saúde</td>\n",
              "      <td>Vigilância epidemiológica</td>\n",
              "      <td>10.675,00</td>\n",
              "      <td>0,00</td>\n",
              "      <td>0,00</td>\n",
              "      <td>10.675,00</td>\n",
              "      <td>0,00</td>\n",
              "      <td>10.675,00</td>\n",
              "    </tr>\n",
              "    <tr>\n",
              "      <th>3</th>\n",
              "      <td>202240600003</td>\n",
              "      <td>2022</td>\n",
              "      <td>Emenda Individual</td>\n",
              "      <td>LUIZAO GOULART</td>\n",
              "      <td>LUIZAO GOULART</td>\n",
              "      <td>0003</td>\n",
              "      <td>RIO BRANCO DO SUL - PR</td>\n",
              "      <td>Saúde</td>\n",
              "      <td>Assistência hospitalar e ambulatorial</td>\n",
              "      <td>11.268,00</td>\n",
              "      <td>11.268,00</td>\n",
              "      <td>11.268,00</td>\n",
              "      <td>0,00</td>\n",
              "      <td>0,00</td>\n",
              "      <td>0,00</td>\n",
              "    </tr>\n",
              "    <tr>\n",
              "      <th>4</th>\n",
              "      <td>202229250004</td>\n",
              "      <td>2022</td>\n",
              "      <td>Emenda Individual</td>\n",
              "      <td>CARMEN ZANOTTO</td>\n",
              "      <td>CARMEN ZANOTTO</td>\n",
              "      <td>0004</td>\n",
              "      <td>DISTRITO FEDERAL (UF)</td>\n",
              "      <td>Educação</td>\n",
              "      <td>Ensino superior</td>\n",
              "      <td>30.000,00</td>\n",
              "      <td>28.500,00</td>\n",
              "      <td>21.500,00</td>\n",
              "      <td>10.000,00</td>\n",
              "      <td>0,00</td>\n",
              "      <td>7.000,00</td>\n",
              "    </tr>\n",
              "  </tbody>\n",
              "</table>\n",
              "</div>"
            ],
            "text/plain": [
              "   codigoEmenda   ano          tipoEmenda                       autor  \\\n",
              "0  202250170002  2022  Emenda de Comissão  COM. FINANCAS E TRIBUTACAO   \n",
              "1  202281000305  2022   Emenda de Relator               RELATOR GERAL   \n",
              "2  202237370006  2022   Emenda Individual               ORLANDO SILVA   \n",
              "3  202240600003  2022   Emenda Individual              LUIZAO GOULART   \n",
              "4  202229250004  2022   Emenda Individual              CARMEN ZANOTTO   \n",
              "\n",
              "                    nomeAutor numeroEmenda       localidadeDoGasto  \\\n",
              "0  COM. FINANCAS E TRIBUTACAO         0002                Nacional   \n",
              "1               RELATOR GERAL         0305                Nacional   \n",
              "2               ORLANDO SILVA         0006          SÃO PAULO (UF)   \n",
              "3              LUIZAO GOULART         0003  RIO BRANCO DO SUL - PR   \n",
              "4              CARMEN ZANOTTO         0004   DISTRITO FEDERAL (UF)   \n",
              "\n",
              "               funcao                              subfuncao valorEmpenhado  \\\n",
              "0       Administração                        Ensino superior       3.560,00   \n",
              "1  Assistência social                 Alimentação e nutrição       8.037,30   \n",
              "2               Saúde              Vigilância epidemiológica      10.675,00   \n",
              "3               Saúde  Assistência hospitalar e ambulatorial      11.268,00   \n",
              "4            Educação                        Ensino superior      30.000,00   \n",
              "\n",
              "  valorLiquidado  valorPago valorRestoInscrito valorRestoCancelado  \\\n",
              "0       3.560,00       0,00           3.560,00                0,00   \n",
              "1       8.037,30   8.037,30               0,00                0,00   \n",
              "2           0,00       0,00          10.675,00                0,00   \n",
              "3      11.268,00  11.268,00               0,00                0,00   \n",
              "4      28.500,00  21.500,00          10.000,00                0,00   \n",
              "\n",
              "  valorRestoPago  \n",
              "0       3.560,00  \n",
              "1           0,00  \n",
              "2      10.675,00  \n",
              "3           0,00  \n",
              "4       7.000,00  "
            ]
          },
          "execution_count": 4,
          "metadata": {},
          "output_type": "execute_result"
        }
      ],
      "source": [
        "data1 = resposta_.json()\n",
        "pd.DataFrame(data1).head()"
      ]
    },
    {
      "cell_type": "code",
      "execution_count": 5,
      "metadata": {
        "id": "TDpKhDqQXSNX"
      },
      "outputs": [],
      "source": [
        "url = 'https://api.portaldatransparencia.gov.br/api-de-dados/emendas?ano=2022&pagina='"
      ]
    },
    {
      "cell_type": "code",
      "execution_count": 6,
      "metadata": {
        "id": "WFhokEjYXVbn"
      },
      "outputs": [],
      "source": [
        "# Emendas página até 408, que é a quantidade de paginas que tem no Portal da TRansparencia para 2022\n",
        "\n",
        "list_urls = [url + str(i) for i in range(1, 6)]"
      ]
    },
    {
      "cell_type": "code",
      "execution_count": 7,
      "metadata": {
        "colab": {
          "base_uri": "https://localhost:8080/"
        },
        "id": "cgSiDENPa5iE",
        "outputId": "f7eb36f2-296d-4394-b0a5-8c71ed8f5076"
      },
      "outputs": [
        {
          "data": {
            "text/plain": [
              "['https://api.portaldatransparencia.gov.br/api-de-dados/emendas?ano=2022&pagina=1',\n",
              " 'https://api.portaldatransparencia.gov.br/api-de-dados/emendas?ano=2022&pagina=2']"
            ]
          },
          "execution_count": 7,
          "metadata": {},
          "output_type": "execute_result"
        }
      ],
      "source": [
        "list_urls[:2]"
      ]
    },
    {
      "cell_type": "code",
      "execution_count": 8,
      "metadata": {},
      "outputs": [],
      "source": [
        "# passando a lista para um array\n",
        "arr_urls = np.asarray(list_urls)"
      ]
    },
    {
      "cell_type": "code",
      "execution_count": 10,
      "metadata": {},
      "outputs": [],
      "source": [
        "def run_request(url_):\n",
        "  resposta = requests.get(url_, headers=headers)\n",
        "  return resposta.json()"
      ]
    },
    {
      "cell_type": "code",
      "execution_count": 11,
      "metadata": {
        "id": "eCS2EpCzYI8I"
      },
      "outputs": [],
      "source": [
        "vec_run = np.vectorize(run_request)\n",
        "\n",
        "arr_responses = vec_run(arr_urls)"
      ]
    },
    {
      "cell_type": "code",
      "execution_count": 12,
      "metadata": {},
      "outputs": [],
      "source": [
        "arr_responses = arr_responses.tolist()"
      ]
    },
    {
      "cell_type": "code",
      "execution_count": 13,
      "metadata": {},
      "outputs": [
        {
          "data": {
            "text/plain": [
              "5"
            ]
          },
          "execution_count": 13,
          "metadata": {},
          "output_type": "execute_result"
        }
      ],
      "source": [
        "len(arr_responses)"
      ]
    },
    {
      "cell_type": "code",
      "execution_count": 14,
      "metadata": {
        "id": "v5Jo4BabaJzo"
      },
      "outputs": [],
      "source": [
        "reposta = np.concatenate(arr_responses).tolist()"
      ]
    },
    {
      "cell_type": "code",
      "execution_count": 15,
      "metadata": {
        "id": "TkfoNnHZbW4e"
      },
      "outputs": [
        {
          "data": {
            "text/html": [
              "<div>\n",
              "<style scoped>\n",
              "    .dataframe tbody tr th:only-of-type {\n",
              "        vertical-align: middle;\n",
              "    }\n",
              "\n",
              "    .dataframe tbody tr th {\n",
              "        vertical-align: top;\n",
              "    }\n",
              "\n",
              "    .dataframe thead th {\n",
              "        text-align: right;\n",
              "    }\n",
              "</style>\n",
              "<table border=\"1\" class=\"dataframe\">\n",
              "  <thead>\n",
              "    <tr style=\"text-align: right;\">\n",
              "      <th></th>\n",
              "      <th>codigoEmenda</th>\n",
              "      <th>ano</th>\n",
              "      <th>tipoEmenda</th>\n",
              "      <th>autor</th>\n",
              "      <th>nomeAutor</th>\n",
              "      <th>numeroEmenda</th>\n",
              "      <th>localidadeDoGasto</th>\n",
              "      <th>funcao</th>\n",
              "      <th>subfuncao</th>\n",
              "      <th>valorEmpenhado</th>\n",
              "      <th>valorLiquidado</th>\n",
              "      <th>valorPago</th>\n",
              "      <th>valorRestoInscrito</th>\n",
              "      <th>valorRestoCancelado</th>\n",
              "      <th>valorRestoPago</th>\n",
              "    </tr>\n",
              "  </thead>\n",
              "  <tbody>\n",
              "    <tr>\n",
              "      <th>0</th>\n",
              "      <td>202250170002</td>\n",
              "      <td>2022</td>\n",
              "      <td>Emenda de Comissão</td>\n",
              "      <td>COM. FINANCAS E TRIBUTACAO</td>\n",
              "      <td>COM. FINANCAS E TRIBUTACAO</td>\n",
              "      <td>0002</td>\n",
              "      <td>Nacional</td>\n",
              "      <td>Administração</td>\n",
              "      <td>Ensino superior</td>\n",
              "      <td>3.560,00</td>\n",
              "      <td>3.560,00</td>\n",
              "      <td>0,00</td>\n",
              "      <td>3.560,00</td>\n",
              "      <td>0,00</td>\n",
              "      <td>3.560,00</td>\n",
              "    </tr>\n",
              "    <tr>\n",
              "      <th>1</th>\n",
              "      <td>202281000305</td>\n",
              "      <td>2022</td>\n",
              "      <td>Emenda de Relator</td>\n",
              "      <td>RELATOR GERAL</td>\n",
              "      <td>RELATOR GERAL</td>\n",
              "      <td>0305</td>\n",
              "      <td>Nacional</td>\n",
              "      <td>Assistência social</td>\n",
              "      <td>Alimentação e nutrição</td>\n",
              "      <td>8.037,30</td>\n",
              "      <td>8.037,30</td>\n",
              "      <td>8.037,30</td>\n",
              "      <td>0,00</td>\n",
              "      <td>0,00</td>\n",
              "      <td>0,00</td>\n",
              "    </tr>\n",
              "    <tr>\n",
              "      <th>2</th>\n",
              "      <td>202237370006</td>\n",
              "      <td>2022</td>\n",
              "      <td>Emenda Individual</td>\n",
              "      <td>ORLANDO SILVA</td>\n",
              "      <td>ORLANDO SILVA</td>\n",
              "      <td>0006</td>\n",
              "      <td>SÃO PAULO (UF)</td>\n",
              "      <td>Saúde</td>\n",
              "      <td>Vigilância epidemiológica</td>\n",
              "      <td>10.675,00</td>\n",
              "      <td>0,00</td>\n",
              "      <td>0,00</td>\n",
              "      <td>10.675,00</td>\n",
              "      <td>0,00</td>\n",
              "      <td>10.675,00</td>\n",
              "    </tr>\n",
              "    <tr>\n",
              "      <th>3</th>\n",
              "      <td>202240600003</td>\n",
              "      <td>2022</td>\n",
              "      <td>Emenda Individual</td>\n",
              "      <td>LUIZAO GOULART</td>\n",
              "      <td>LUIZAO GOULART</td>\n",
              "      <td>0003</td>\n",
              "      <td>RIO BRANCO DO SUL - PR</td>\n",
              "      <td>Saúde</td>\n",
              "      <td>Assistência hospitalar e ambulatorial</td>\n",
              "      <td>11.268,00</td>\n",
              "      <td>11.268,00</td>\n",
              "      <td>11.268,00</td>\n",
              "      <td>0,00</td>\n",
              "      <td>0,00</td>\n",
              "      <td>0,00</td>\n",
              "    </tr>\n",
              "    <tr>\n",
              "      <th>4</th>\n",
              "      <td>202229250004</td>\n",
              "      <td>2022</td>\n",
              "      <td>Emenda Individual</td>\n",
              "      <td>CARMEN ZANOTTO</td>\n",
              "      <td>CARMEN ZANOTTO</td>\n",
              "      <td>0004</td>\n",
              "      <td>DISTRITO FEDERAL (UF)</td>\n",
              "      <td>Educação</td>\n",
              "      <td>Ensino superior</td>\n",
              "      <td>30.000,00</td>\n",
              "      <td>28.500,00</td>\n",
              "      <td>21.500,00</td>\n",
              "      <td>10.000,00</td>\n",
              "      <td>0,00</td>\n",
              "      <td>7.000,00</td>\n",
              "    </tr>\n",
              "    <tr>\n",
              "      <th>...</th>\n",
              "      <td>...</td>\n",
              "      <td>...</td>\n",
              "      <td>...</td>\n",
              "      <td>...</td>\n",
              "      <td>...</td>\n",
              "      <td>...</td>\n",
              "      <td>...</td>\n",
              "      <td>...</td>\n",
              "      <td>...</td>\n",
              "      <td>...</td>\n",
              "      <td>...</td>\n",
              "      <td>...</td>\n",
              "      <td>...</td>\n",
              "      <td>...</td>\n",
              "      <td>...</td>\n",
              "    </tr>\n",
              "    <tr>\n",
              "      <th>70</th>\n",
              "      <td>202237330009</td>\n",
              "      <td>2022</td>\n",
              "      <td>Emenda Individual</td>\n",
              "      <td>MOSES RODRIGUES</td>\n",
              "      <td>MOSES RODRIGUES</td>\n",
              "      <td>0009</td>\n",
              "      <td>CEARÁ (UF)</td>\n",
              "      <td>Defesa nacional</td>\n",
              "      <td>Administração geral</td>\n",
              "      <td>99.825,71</td>\n",
              "      <td>98.027,19</td>\n",
              "      <td>88.095,60</td>\n",
              "      <td>11.730,11</td>\n",
              "      <td>0,00</td>\n",
              "      <td>11.730,11</td>\n",
              "    </tr>\n",
              "    <tr>\n",
              "      <th>71</th>\n",
              "      <td>202219830011</td>\n",
              "      <td>2022</td>\n",
              "      <td>Emenda Individual</td>\n",
              "      <td>MARIA DO ROSARIO</td>\n",
              "      <td>MARIA DO ROSARIO</td>\n",
              "      <td>0011</td>\n",
              "      <td>RIO GRANDE DO SUL (UF)</td>\n",
              "      <td>Educação</td>\n",
              "      <td>Ensino superior</td>\n",
              "      <td>99.869,00</td>\n",
              "      <td>91.689,00</td>\n",
              "      <td>49.080,00</td>\n",
              "      <td>50.789,00</td>\n",
              "      <td>0,00</td>\n",
              "      <td>50.789,00</td>\n",
              "    </tr>\n",
              "    <tr>\n",
              "      <th>72</th>\n",
              "      <td>202240640005</td>\n",
              "      <td>2022</td>\n",
              "      <td>Emenda Individual</td>\n",
              "      <td>ROGERIO CORREIA</td>\n",
              "      <td>ROGERIO CORREIA</td>\n",
              "      <td>0005</td>\n",
              "      <td>OURO PRETO - MG</td>\n",
              "      <td>Educação</td>\n",
              "      <td>Ensino superior</td>\n",
              "      <td>99.871,94</td>\n",
              "      <td>8.191,99</td>\n",
              "      <td>4.000,00</td>\n",
              "      <td>95.877,77</td>\n",
              "      <td>535,94</td>\n",
              "      <td>95.330,17</td>\n",
              "    </tr>\n",
              "    <tr>\n",
              "      <th>73</th>\n",
              "      <td>202211970003</td>\n",
              "      <td>2022</td>\n",
              "      <td>Emenda Individual</td>\n",
              "      <td>PERPETUA ALMEIDA</td>\n",
              "      <td>PERPETUA ALMEIDA</td>\n",
              "      <td>0003</td>\n",
              "      <td>ACRE (UF)</td>\n",
              "      <td>Educação</td>\n",
              "      <td>Ensino superior</td>\n",
              "      <td>99.875,97</td>\n",
              "      <td>0,00</td>\n",
              "      <td>0,00</td>\n",
              "      <td>170.733,47</td>\n",
              "      <td>0,00</td>\n",
              "      <td>29.018,47</td>\n",
              "    </tr>\n",
              "    <tr>\n",
              "      <th>74</th>\n",
              "      <td>202239600003</td>\n",
              "      <td>2022</td>\n",
              "      <td>Emenda Individual</td>\n",
              "      <td>DR. FREDERICO</td>\n",
              "      <td>DR. FREDERICO</td>\n",
              "      <td>0003</td>\n",
              "      <td>MINAS GERAIS (UF)</td>\n",
              "      <td>Urbanismo</td>\n",
              "      <td>Assistência comunitária</td>\n",
              "      <td>99.879,95</td>\n",
              "      <td>19.927,45</td>\n",
              "      <td>8.043,50</td>\n",
              "      <td>91.836,45</td>\n",
              "      <td>0,00</td>\n",
              "      <td>91.836,45</td>\n",
              "    </tr>\n",
              "  </tbody>\n",
              "</table>\n",
              "<p>75 rows × 15 columns</p>\n",
              "</div>"
            ],
            "text/plain": [
              "    codigoEmenda   ano          tipoEmenda                       autor  \\\n",
              "0   202250170002  2022  Emenda de Comissão  COM. FINANCAS E TRIBUTACAO   \n",
              "1   202281000305  2022   Emenda de Relator               RELATOR GERAL   \n",
              "2   202237370006  2022   Emenda Individual               ORLANDO SILVA   \n",
              "3   202240600003  2022   Emenda Individual              LUIZAO GOULART   \n",
              "4   202229250004  2022   Emenda Individual              CARMEN ZANOTTO   \n",
              "..           ...   ...                 ...                         ...   \n",
              "70  202237330009  2022   Emenda Individual             MOSES RODRIGUES   \n",
              "71  202219830011  2022   Emenda Individual            MARIA DO ROSARIO   \n",
              "72  202240640005  2022   Emenda Individual             ROGERIO CORREIA   \n",
              "73  202211970003  2022   Emenda Individual            PERPETUA ALMEIDA   \n",
              "74  202239600003  2022   Emenda Individual               DR. FREDERICO   \n",
              "\n",
              "                     nomeAutor numeroEmenda       localidadeDoGasto  \\\n",
              "0   COM. FINANCAS E TRIBUTACAO         0002                Nacional   \n",
              "1                RELATOR GERAL         0305                Nacional   \n",
              "2                ORLANDO SILVA         0006          SÃO PAULO (UF)   \n",
              "3               LUIZAO GOULART         0003  RIO BRANCO DO SUL - PR   \n",
              "4               CARMEN ZANOTTO         0004   DISTRITO FEDERAL (UF)   \n",
              "..                         ...          ...                     ...   \n",
              "70             MOSES RODRIGUES         0009              CEARÁ (UF)   \n",
              "71            MARIA DO ROSARIO         0011  RIO GRANDE DO SUL (UF)   \n",
              "72             ROGERIO CORREIA         0005         OURO PRETO - MG   \n",
              "73            PERPETUA ALMEIDA         0003               ACRE (UF)   \n",
              "74               DR. FREDERICO         0003       MINAS GERAIS (UF)   \n",
              "\n",
              "                funcao                              subfuncao valorEmpenhado  \\\n",
              "0        Administração                        Ensino superior       3.560,00   \n",
              "1   Assistência social                 Alimentação e nutrição       8.037,30   \n",
              "2                Saúde              Vigilância epidemiológica      10.675,00   \n",
              "3                Saúde  Assistência hospitalar e ambulatorial      11.268,00   \n",
              "4             Educação                        Ensino superior      30.000,00   \n",
              "..                 ...                                    ...            ...   \n",
              "70     Defesa nacional                    Administração geral      99.825,71   \n",
              "71            Educação                        Ensino superior      99.869,00   \n",
              "72            Educação                        Ensino superior      99.871,94   \n",
              "73            Educação                        Ensino superior      99.875,97   \n",
              "74           Urbanismo                Assistência comunitária      99.879,95   \n",
              "\n",
              "   valorLiquidado  valorPago valorRestoInscrito valorRestoCancelado  \\\n",
              "0        3.560,00       0,00           3.560,00                0,00   \n",
              "1        8.037,30   8.037,30               0,00                0,00   \n",
              "2            0,00       0,00          10.675,00                0,00   \n",
              "3       11.268,00  11.268,00               0,00                0,00   \n",
              "4       28.500,00  21.500,00          10.000,00                0,00   \n",
              "..            ...        ...                ...                 ...   \n",
              "70      98.027,19  88.095,60          11.730,11                0,00   \n",
              "71      91.689,00  49.080,00          50.789,00                0,00   \n",
              "72       8.191,99   4.000,00          95.877,77              535,94   \n",
              "73           0,00       0,00         170.733,47                0,00   \n",
              "74      19.927,45   8.043,50          91.836,45                0,00   \n",
              "\n",
              "   valorRestoPago  \n",
              "0        3.560,00  \n",
              "1            0,00  \n",
              "2       10.675,00  \n",
              "3            0,00  \n",
              "4        7.000,00  \n",
              "..            ...  \n",
              "70      11.730,11  \n",
              "71      50.789,00  \n",
              "72      95.330,17  \n",
              "73      29.018,47  \n",
              "74      91.836,45  \n",
              "\n",
              "[75 rows x 15 columns]"
            ]
          },
          "execution_count": 15,
          "metadata": {},
          "output_type": "execute_result"
        }
      ],
      "source": [
        "df = pd.DataFrame(reposta)\n",
        "df"
      ]
    },
    {
      "cell_type": "code",
      "execution_count": 16,
      "metadata": {
        "colab": {
          "base_uri": "https://localhost:8080/"
        },
        "id": "pJ0qfB7pcXCy",
        "outputId": "c4e75aad-1374-47de-83cf-f59a6cac039d"
      },
      "outputs": [
        {
          "name": "stderr",
          "output_type": "stream",
          "text": [
            "C:\\Users\\na_fe\\AppData\\Local\\Temp\\ipykernel_16696\\3901845461.py:2: SettingWithCopyWarning: \n",
            "A value is trying to be set on a copy of a slice from a DataFrame.\n",
            "Try using .loc[row_indexer,col_indexer] = value instead\n",
            "\n",
            "See the caveats in the documentation: https://pandas.pydata.org/pandas-docs/stable/user_guide/indexing.html#returning-a-view-versus-a-copy\n",
            "  df_area['valorEmpenhado'] = df_area['valorEmpenhado'].str.replace('.', '').str.replace(',', '.').astype(np.float64)\n"
          ]
        }
      ],
      "source": [
        "df_area = df[['funcao', 'valorEmpenhado']]\n",
        "df_area['valorEmpenhado'] = df_area['valorEmpenhado'].str.replace('.', '').str.replace(',', '.').astype(np.float64)"
      ]
    },
    {
      "cell_type": "code",
      "execution_count": 17,
      "metadata": {
        "colab": {
          "base_uri": "https://localhost:8080/"
        },
        "id": "DYQDCw5SfR7c",
        "outputId": "44b7a9a2-7dd0-4dc3-cac1-8269cb1b32b0"
      },
      "outputs": [
        {
          "name": "stdout",
          "output_type": "stream",
          "text": [
            "<class 'pandas.core.frame.DataFrame'>\n",
            "RangeIndex: 75 entries, 0 to 74\n",
            "Data columns (total 2 columns):\n",
            " #   Column          Non-Null Count  Dtype  \n",
            "---  ------          --------------  -----  \n",
            " 0   funcao          75 non-null     object \n",
            " 1   valorEmpenhado  75 non-null     float64\n",
            "dtypes: float64(1), object(1)\n",
            "memory usage: 1.3+ KB\n"
          ]
        }
      ],
      "source": [
        "df_area.info()"
      ]
    },
    {
      "cell_type": "code",
      "execution_count": 18,
      "metadata": {
        "id": "d7dFiXOkgdkk"
      },
      "outputs": [],
      "source": [
        "agg_area = df_area.groupby('funcao').sum('valorEmpenhado')"
      ]
    },
    {
      "cell_type": "code",
      "execution_count": 19,
      "metadata": {
        "colab": {
          "base_uri": "https://localhost:8080/",
          "height": 802
        },
        "id": "SEicrxEEo4QC",
        "outputId": "21b712ec-9f1d-40aa-8895-ec4afaed0650"
      },
      "outputs": [
        {
          "data": {
            "text/html": [
              "<div>\n",
              "<style scoped>\n",
              "    .dataframe tbody tr th:only-of-type {\n",
              "        vertical-align: middle;\n",
              "    }\n",
              "\n",
              "    .dataframe tbody tr th {\n",
              "        vertical-align: top;\n",
              "    }\n",
              "\n",
              "    .dataframe thead th {\n",
              "        text-align: right;\n",
              "    }\n",
              "</style>\n",
              "<table border=\"1\" class=\"dataframe\">\n",
              "  <thead>\n",
              "    <tr style=\"text-align: right;\">\n",
              "      <th></th>\n",
              "      <th>valorEmpenhado</th>\n",
              "    </tr>\n",
              "    <tr>\n",
              "      <th>funcao</th>\n",
              "      <th></th>\n",
              "    </tr>\n",
              "  </thead>\n",
              "  <tbody>\n",
              "    <tr>\n",
              "      <th>Administração</th>\n",
              "      <td>3560.00</td>\n",
              "    </tr>\n",
              "    <tr>\n",
              "      <th>Agricultura</th>\n",
              "      <td>197506.34</td>\n",
              "    </tr>\n",
              "    <tr>\n",
              "      <th>Assistência social</th>\n",
              "      <td>93352.30</td>\n",
              "    </tr>\n",
              "    <tr>\n",
              "      <th>Comércio e serviços</th>\n",
              "      <td>50000.00</td>\n",
              "    </tr>\n",
              "    <tr>\n",
              "      <th>Cultura</th>\n",
              "      <td>120000.00</td>\n",
              "    </tr>\n",
              "    <tr>\n",
              "      <th>Defesa nacional</th>\n",
              "      <td>1214201.98</td>\n",
              "    </tr>\n",
              "    <tr>\n",
              "      <th>Educação</th>\n",
              "      <td>2784263.14</td>\n",
              "    </tr>\n",
              "    <tr>\n",
              "      <th>Organização agrária</th>\n",
              "      <td>69165.76</td>\n",
              "    </tr>\n",
              "    <tr>\n",
              "      <th>Relações exteriores</th>\n",
              "      <td>33278.12</td>\n",
              "    </tr>\n",
              "    <tr>\n",
              "      <th>Saúde</th>\n",
              "      <td>650934.00</td>\n",
              "    </tr>\n",
              "    <tr>\n",
              "      <th>Trabalho</th>\n",
              "      <td>99724.38</td>\n",
              "    </tr>\n",
              "    <tr>\n",
              "      <th>Transporte</th>\n",
              "      <td>98600.00</td>\n",
              "    </tr>\n",
              "    <tr>\n",
              "      <th>Urbanismo</th>\n",
              "      <td>99879.95</td>\n",
              "    </tr>\n",
              "  </tbody>\n",
              "</table>\n",
              "</div>"
            ],
            "text/plain": [
              "                     valorEmpenhado\n",
              "funcao                             \n",
              "Administração               3560.00\n",
              "Agricultura               197506.34\n",
              "Assistência social         93352.30\n",
              "Comércio e serviços        50000.00\n",
              "Cultura                   120000.00\n",
              "Defesa nacional          1214201.98\n",
              "Educação                 2784263.14\n",
              "Organização agrária        69165.76\n",
              "Relações exteriores        33278.12\n",
              "Saúde                     650934.00\n",
              "Trabalho                   99724.38\n",
              "Transporte                 98600.00\n",
              "Urbanismo                  99879.95"
            ]
          },
          "execution_count": 19,
          "metadata": {},
          "output_type": "execute_result"
        }
      ],
      "source": [
        "agg_area"
      ]
    },
    {
      "cell_type": "code",
      "execution_count": 20,
      "metadata": {
        "colab": {
          "base_uri": "https://localhost:8080/"
        },
        "id": "ifcQjfzspIvN",
        "outputId": "bcbcf2f9-db72-4972-abfa-ee145a5f8948"
      },
      "outputs": [
        {
          "data": {
            "text/plain": [
              "0.05830428749306528"
            ]
          },
          "execution_count": 20,
          "metadata": {},
          "output_type": "execute_result"
        }
      ],
      "source": [
        "1.380082e+09/23670334710.190002\n"
      ]
    },
    {
      "cell_type": "code",
      "execution_count": 21,
      "metadata": {
        "id": "bH7FMuC4opDP"
      },
      "outputs": [],
      "source": [
        "agg_area = agg_area['valorEmpenhado']/df_area['valorEmpenhado'].sum()"
      ]
    },
    {
      "cell_type": "code",
      "execution_count": 22,
      "metadata": {
        "id": "4Ocqhq7Apdre"
      },
      "outputs": [
        {
          "data": {
            "text/html": [
              "<div>\n",
              "<style scoped>\n",
              "    .dataframe tbody tr th:only-of-type {\n",
              "        vertical-align: middle;\n",
              "    }\n",
              "\n",
              "    .dataframe tbody tr th {\n",
              "        vertical-align: top;\n",
              "    }\n",
              "\n",
              "    .dataframe thead th {\n",
              "        text-align: right;\n",
              "    }\n",
              "</style>\n",
              "<table border=\"1\" class=\"dataframe\">\n",
              "  <thead>\n",
              "    <tr style=\"text-align: right;\">\n",
              "      <th></th>\n",
              "      <th>funcao</th>\n",
              "      <th>valorEmpenhado</th>\n",
              "    </tr>\n",
              "  </thead>\n",
              "  <tbody>\n",
              "    <tr>\n",
              "      <th>0</th>\n",
              "      <td>Administração</td>\n",
              "      <td>0.000646</td>\n",
              "    </tr>\n",
              "    <tr>\n",
              "      <th>1</th>\n",
              "      <td>Agricultura</td>\n",
              "      <td>0.035816</td>\n",
              "    </tr>\n",
              "    <tr>\n",
              "      <th>2</th>\n",
              "      <td>Assistência social</td>\n",
              "      <td>0.016929</td>\n",
              "    </tr>\n",
              "    <tr>\n",
              "      <th>3</th>\n",
              "      <td>Comércio e serviços</td>\n",
              "      <td>0.009067</td>\n",
              "    </tr>\n",
              "    <tr>\n",
              "      <th>4</th>\n",
              "      <td>Cultura</td>\n",
              "      <td>0.021761</td>\n",
              "    </tr>\n",
              "    <tr>\n",
              "      <th>5</th>\n",
              "      <td>Defesa nacional</td>\n",
              "      <td>0.220185</td>\n",
              "    </tr>\n",
              "    <tr>\n",
              "      <th>6</th>\n",
              "      <td>Educação</td>\n",
              "      <td>0.504902</td>\n",
              "    </tr>\n",
              "    <tr>\n",
              "      <th>7</th>\n",
              "      <td>Organização agrária</td>\n",
              "      <td>0.012543</td>\n",
              "    </tr>\n",
              "    <tr>\n",
              "      <th>8</th>\n",
              "      <td>Relações exteriores</td>\n",
              "      <td>0.006035</td>\n",
              "    </tr>\n",
              "    <tr>\n",
              "      <th>9</th>\n",
              "      <td>Saúde</td>\n",
              "      <td>0.118041</td>\n",
              "    </tr>\n",
              "    <tr>\n",
              "      <th>10</th>\n",
              "      <td>Trabalho</td>\n",
              "      <td>0.018084</td>\n",
              "    </tr>\n",
              "    <tr>\n",
              "      <th>11</th>\n",
              "      <td>Transporte</td>\n",
              "      <td>0.017880</td>\n",
              "    </tr>\n",
              "    <tr>\n",
              "      <th>12</th>\n",
              "      <td>Urbanismo</td>\n",
              "      <td>0.018112</td>\n",
              "    </tr>\n",
              "  </tbody>\n",
              "</table>\n",
              "</div>"
            ],
            "text/plain": [
              "                 funcao  valorEmpenhado\n",
              "0         Administração        0.000646\n",
              "1           Agricultura        0.035816\n",
              "2    Assistência social        0.016929\n",
              "3   Comércio e serviços        0.009067\n",
              "4               Cultura        0.021761\n",
              "5       Defesa nacional        0.220185\n",
              "6              Educação        0.504902\n",
              "7   Organização agrária        0.012543\n",
              "8   Relações exteriores        0.006035\n",
              "9                 Saúde        0.118041\n",
              "10             Trabalho        0.018084\n",
              "11           Transporte        0.017880\n",
              "12            Urbanismo        0.018112"
            ]
          },
          "execution_count": 22,
          "metadata": {},
          "output_type": "execute_result"
        }
      ],
      "source": [
        "agg_area = agg_area.reset_index()\n",
        "agg_area"
      ]
    },
    {
      "cell_type": "code",
      "execution_count": 23,
      "metadata": {
        "id": "UTDe5n4IqDnw"
      },
      "outputs": [],
      "source": [
        "agg_area.to_csv('distribuicao_empenho_area_2022.csv')"
      ]
    },
    {
      "cell_type": "markdown",
      "metadata": {
        "id": "hXsj9Cn8t-ud"
      },
      "source": [
        "## Criação de ETL e métodos organizados para monitoramento e automação"
      ]
    },
    {
      "cell_type": "code",
      "execution_count": 24,
      "metadata": {
        "id": "Xa9OYTTwvqtY"
      },
      "outputs": [],
      "source": [
        "logging.basicConfig(level=logging.INFO, format='%(asctime)s - %(levelname)s - %(message)s')\n"
      ]
    },
    {
      "cell_type": "code",
      "execution_count": 25,
      "metadata": {
        "id": "uIMEJoIYtGYT"
      },
      "outputs": [],
      "source": [
        "def run_request(url_):\n",
        "  resposta = requests.get(url_, headers=headers)\n",
        "  return resposta.json()"
      ]
    },
    {
      "cell_type": "code",
      "execution_count": 26,
      "metadata": {
        "id": "fIz17ziFtGbB"
      },
      "outputs": [],
      "source": [
        "def coletar_dados(url):\n",
        "  logging.info('Pegou URL para a criação das diferentes URLs criando uma para cada página')\n",
        "  list_urls = [url + str(i) for i in range(1, 6)]\n",
        "  arr_urls = np.asarray(list_urls)\n",
        "\n",
        "  vec_run = np.vectorize(run_request)\n",
        "  logging.info('Fazendo uma requisição para cada URL')\n",
        "  arr_responses = vec_run(arr_urls)\n",
        "  logging.info('Requisições concluídas')\n",
        "  arr_responses = arr_responses.tolist()\n",
        "  reposta = np.concatenate(arr_responses).tolist()\n",
        "  return reposta"
      ]
    },
    {
      "cell_type": "code",
      "execution_count": 27,
      "metadata": {
        "id": "q7jQL0MNro7X"
      },
      "outputs": [],
      "source": [
        "def transformar_dado(dado):\n",
        "  logging.info('Criando dataframe')\n",
        "  # Insira o código para a criação do dataframe a partir do parâmetro 'dado'\n",
        "  df = pd.DataFrame(dado)\n",
        "  # A variável deve ter o nome df_area\n",
        "  # Insita o log sobre o que está sendo executado, utilizando 'logging.info'\n",
        "  logging.info('Selecionando Colunas')\n",
        "  df_area = df[['funcao', 'valorEmpenhado']]\n",
        "\n",
        "  # Insita o log sobre o que está sendo executado, utilizando 'logging.info'\n",
        "  logging.info('Transformando dado String -> Float')\n",
        "  df_area['valorEmpenhado'] = df_area['valorEmpenhado'].str.replace('.', '').str.replace(',', '.').astype(np.float64)\n",
        "\n",
        "  logging.info('Transformando dado string -> float')\n",
        "  agg_area = df_area.groupby('funcao').sum('valorEmpenhado')\n",
        "\n",
        "  logging.info('Transformando dados para retirar proporção em porcentagem')\n",
        "  agg_area = agg_area['valorEmpenhado']/df_area['valorEmpenhado'].sum()\n",
        "\n",
        "  # Insira o código para reset de index de agg_area, usando reset_index()\n",
        "  agg_are = agg_area.reset_index()\n",
        "\n",
        "  return agg_area"
      ]
    },
    {
      "cell_type": "code",
      "execution_count": 28,
      "metadata": {
        "id": "_o-M9PmhqYrb"
      },
      "outputs": [],
      "source": [
        "def carga(dado):\n",
        "  # crie um arquivo CSV com p parâmetro 'dado', o nome do arquivo deve ser 'distribuicao_empenho_area_20220.csv'\n",
        "  # esse método não tem retorno\n",
        "    logging.info('Salvando arquivo...')\n",
        "    dado.to_csv('distribuicao_empenho_area_2022.csv')\n",
        "    logging.info('Arquivo salvo')\n"
      ]
    },
    {
      "cell_type": "code",
      "execution_count": 29,
      "metadata": {
        "id": "kJN475pNtLGi"
      },
      "outputs": [],
      "source": [
        "# Escreva aqui quais são os passos para a extração dos dados e processamento\n",
        "# Este método não tem retorno, no final será gerado um CSV com os dados a serem salvos\n",
        "\n",
        "def etl():\n",
        "  logging.info('ETL iniciada...')\n",
        "  url = 'https://api.portaldatransparencia.gov.br/api-de-dados/emendas?ano=2022&pagina='\n",
        "  # colete os dados\n",
        "  dado = coletar_dados(url)\n",
        "  # transforme os dados\n",
        "  dado = transformar_dado(dado)\n",
        "  # salve os dados\n",
        "  carga(dado)\n",
        "  logging.info('ETL finalizada!')\n"
      ]
    },
    {
      "cell_type": "code",
      "execution_count": 30,
      "metadata": {
        "id": "q1fI6LHlq967"
      },
      "outputs": [
        {
          "name": "stderr",
          "output_type": "stream",
          "text": [
            "2024-02-11 19:23:53,620 - INFO - ETL iniciada...\n",
            "2024-02-11 19:23:53,623 - INFO - Pegou URL para a criação das diferentes URLs criando uma para cada página\n",
            "2024-02-11 19:23:53,624 - INFO - Fazendo uma requisição para cada URL\n",
            "2024-02-11 19:23:55,531 - INFO - Requisições concluídas\n",
            "2024-02-11 19:23:55,532 - INFO - Criando dataframe\n",
            "2024-02-11 19:23:55,535 - INFO - Selecionando Colunas\n",
            "2024-02-11 19:23:55,537 - INFO - Transformando dado String -> Float\n",
            "C:\\Users\\na_fe\\AppData\\Local\\Temp\\ipykernel_16696\\318540345.py:12: SettingWithCopyWarning: \n",
            "A value is trying to be set on a copy of a slice from a DataFrame.\n",
            "Try using .loc[row_indexer,col_indexer] = value instead\n",
            "\n",
            "See the caveats in the documentation: https://pandas.pydata.org/pandas-docs/stable/user_guide/indexing.html#returning-a-view-versus-a-copy\n",
            "  df_area['valorEmpenhado'] = df_area['valorEmpenhado'].str.replace('.', '').str.replace(',', '.').astype(np.float64)\n",
            "2024-02-11 19:23:55,540 - INFO - Transformando dado string -> float\n",
            "2024-02-11 19:23:55,542 - INFO - Transformando dados para retirar proporção em porcentagem\n",
            "2024-02-11 19:23:55,543 - INFO - Salvando arquivo...\n",
            "2024-02-11 19:23:55,548 - INFO - Arquivo salvo\n",
            "2024-02-11 19:23:55,551 - INFO - ETL finalizada!\n"
          ]
        }
      ],
      "source": [
        "etl()"
      ]
    }
  ],
  "metadata": {
    "colab": {
      "provenance": []
    },
    "kernelspec": {
      "display_name": "Python 3",
      "name": "python3"
    },
    "language_info": {
      "codemirror_mode": {
        "name": "ipython",
        "version": 3
      },
      "file_extension": ".py",
      "mimetype": "text/x-python",
      "name": "python",
      "nbconvert_exporter": "python",
      "pygments_lexer": "ipython3",
      "version": "3.12.2"
    }
  },
  "nbformat": 4,
  "nbformat_minor": 0
}
