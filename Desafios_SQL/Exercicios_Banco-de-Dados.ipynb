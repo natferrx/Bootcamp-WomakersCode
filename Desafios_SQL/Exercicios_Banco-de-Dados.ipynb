{
 "cells": [
  {
   "cell_type": "markdown",
   "metadata": {},
   "source": [
    "# Bootcamp Data Analytics - Womakers Code\n",
    "\n",
    "**Aluna:** Natália Ferreira  \n",
    "**Squad:** Sônia Guimarães\n",
    "\n",
    "*EXERCICIOS BANDO DE DADOS*\n",
    "\n",
    "**1.** Crie uma tabela chamada \"alunos\" com os seguintes campos: id (inteiro), nome (texto), idade (inteiro) e curso (texto).\n"
   ]
  },
  {
   "cell_type": "code",
   "execution_count": 1,
   "metadata": {},
   "outputs": [
    {
     "name": "stdout",
     "output_type": "stream",
     "text": [
      "Tabela 'alunos' criada com sucesso!\n"
     ]
    }
   ],
   "source": [
    "import sqlite3\n",
    "\n",
    "# Conectar o python ao banco de dados\n",
    "conexao = sqlite3.connect('banco')\n",
    "\n",
    "# Criar um cursor para executar comandos SQL\n",
    "cursor = conexao.cursor()\n",
    "\n",
    "# Definir o comando SQL para criar a tabela 'alunos'\n",
    "criar_tabela_alunos = '''\n",
    "CREATE TABLE alunos (\n",
    "    id INTEGER PRIMARY KEY,\n",
    "    nome TEXT,\n",
    "    idade INTEGER,\n",
    "    curso TEXT\n",
    ")\n",
    "'''\n",
    "\n",
    "# Executar o comando SQL para criar a tabela\n",
    "cursor.execute(criar_tabela_alunos)\n",
    "\n",
    "# Confirmar a transação\n",
    "conexao.commit()\n",
    "\n",
    "# Fechar a conexão com o banco de dados\n",
    "conexao.close()\n",
    "\n",
    "print(\"Tabela 'alunos' criada com sucesso!\")"
   ]
  },
  {
   "cell_type": "markdown",
   "metadata": {},
   "source": [
    "**2.** Insira pelo menos 5 registros de alunos na tabela que você criou no\n",
    "exercício anterior."
   ]
  },
  {
   "cell_type": "code",
   "execution_count": 2,
   "metadata": {},
   "outputs": [
    {
     "name": "stdout",
     "output_type": "stream",
     "text": [
      "Registros de alunos inseridos com sucesso!\n"
     ]
    }
   ],
   "source": [
    "conexao = sqlite3.connect('banco')\n",
    "cursor = conexao.cursor()\n",
    "\n",
    "# Lista de registros de exemplo\n",
    "alunos = [\n",
    "    (1, 'Maria', 31, 'Engenharia'),\n",
    "    (2, 'João', 22, 'Medicina'),\n",
    "    (3, 'Ana', 28, 'Direito'),\n",
    "    (4, 'Pedro', 23, 'Administração'),\n",
    "    (5, 'Carla', 26, 'Ciência da Computação')\n",
    "]\n",
    "\n",
    "# Inserir os registros na tabela 'alunos'\n",
    "for aluno in alunos:\n",
    "    cursor.execute('INSERT INTO alunos (id, nome, idade, curso) VALUES (?, ?, ?, ?)', aluno)\n",
    "\n",
    "conexao.commit()\n",
    "conexao.close()\n",
    "\n",
    "print(\"Registros de alunos inseridos com sucesso!\")"
   ]
  },
  {
   "cell_type": "markdown",
   "metadata": {},
   "source": [
    "**3.** Consultas Básicas  \n",
    "\n",
    "Escreva consultas SQL para realizar as seguintes tarefas:\n",
    "- Selecionar todos os registros da tabela \"alunos\"."
   ]
  },
  {
   "cell_type": "code",
   "execution_count": 4,
   "metadata": {},
   "outputs": [
    {
     "name": "stdout",
     "output_type": "stream",
     "text": [
      "(1, 'Maria', 31, 'Engenharia')\n",
      "(2, 'João', 22, 'Medicina')\n",
      "(3, 'Ana', 28, 'Direito')\n",
      "(4, 'Pedro', 23, 'Administração')\n",
      "(5, 'Carla', 26, 'Ciência da Computação')\n"
     ]
    }
   ],
   "source": [
    "conexao = sqlite3.connect('banco')\n",
    "cursor = conexao.cursor()\n",
    "\n",
    "# Selecionar todos os registros da tabela 'alunos'\n",
    "cursor.execute('SELECT * FROM alunos')\n",
    "\n",
    "# Recuperar todos os resultados\n",
    "registros = cursor.fetchall()\n",
    "\n",
    "# Exibir os registros\n",
    "for registro in registros:\n",
    "    print(registro)\n",
    "\n",
    "conexao.close()\n"
   ]
  },
  {
   "cell_type": "markdown",
   "metadata": {},
   "source": [
    "- Selecionar o nome e a idade dos alunos com mais de 20 anos.\n"
   ]
  },
  {
   "cell_type": "code",
   "execution_count": 5,
   "metadata": {},
   "outputs": [
    {
     "name": "stdout",
     "output_type": "stream",
     "text": [
      "Alunos com mais de 20 anos:\n",
      "Nome: Maria | Idade: 31\n",
      "Nome: João | Idade: 22\n",
      "Nome: Ana | Idade: 28\n",
      "Nome: Pedro | Idade: 23\n",
      "Nome: Carla | Idade: 26\n"
     ]
    }
   ],
   "source": [
    "conexao = sqlite3.connect('banco')\n",
    "cursor = conexao.cursor()\n",
    "\n",
    "# Selecionar o nome e a idade dos alunos com mais de 20 anos\n",
    "cursor.execute(\"SELECT nome, idade FROM alunos WHERE idade > 20\")\n",
    "\n",
    "# Recuperar os resultados\n",
    "resultados = cursor.fetchall()\n",
    "\n",
    "# Exibir os resultados\n",
    "print(\"Alunos com mais de 20 anos:\")\n",
    "for resultado in resultados:\n",
    "    print(\"Nome:\", resultado[0], \"| Idade:\", resultado[1])\n",
    "\n",
    "conexao.close()"
   ]
  },
  {
   "cell_type": "markdown",
   "metadata": {},
   "source": [
    "- Selecionar os alunos do curso de \"Engenharia\" em ordem\n",
    "alfabética.\n"
   ]
  },
  {
   "cell_type": "code",
   "execution_count": 6,
   "metadata": {},
   "outputs": [
    {
     "name": "stdout",
     "output_type": "stream",
     "text": [
      "Alunos do curso de Engenharia em ordem alfabética:\n",
      "Nome: Maria | Idade: 31\n"
     ]
    }
   ],
   "source": [
    "conexao = sqlite3.connect('banco')\n",
    "cursor = conexao.cursor()\n",
    "\n",
    "# Selecionar os alunos do curso de \"Engenharia\" em ordem alfabética\n",
    "cursor.execute(\"SELECT nome, idade FROM alunos WHERE curso = 'Engenharia' ORDER BY nome\")\n",
    "\n",
    "# Recuperar os resultados\n",
    "resultados = cursor.fetchall()\n",
    "\n",
    "# Exibir os resultados\n",
    "print(\"Alunos do curso de Engenharia em ordem alfabética:\")\n",
    "for resultado in resultados:\n",
    "    print(\"Nome:\", resultado[0], \"| Idade:\", resultado[1])\n",
    "\n",
    "conexao.close()"
   ]
  },
  {
   "cell_type": "markdown",
   "metadata": {},
   "source": [
    "- Contar o número total de alunos na tabela"
   ]
  },
  {
   "cell_type": "code",
   "execution_count": 7,
   "metadata": {},
   "outputs": [
    {
     "name": "stdout",
     "output_type": "stream",
     "text": [
      "Número total de alunos na tabela: 5\n"
     ]
    }
   ],
   "source": [
    "conexao = sqlite3.connect('banco')\n",
    "cursor = conexao.cursor()\n",
    "\n",
    "# Contar o número total de alunos na tabela\n",
    "cursor.execute(\"SELECT COUNT(*) FROM alunos\")\n",
    "\n",
    "# Recuperar o resultado\n",
    "total_alunos = cursor.fetchone()[0]\n",
    "\n",
    "# Exibir o resultado\n",
    "print(\"Número total de alunos na tabela:\", total_alunos)\n",
    "\n",
    "conexao.close()"
   ]
  },
  {
   "cell_type": "markdown",
   "metadata": {},
   "source": [
    "**4.** Atualização e Remoção\n",
    "- Atualize a idade de um aluno específico na tabela.\n",
    "\n"
   ]
  },
  {
   "cell_type": "code",
   "execution_count": 8,
   "metadata": {},
   "outputs": [
    {
     "name": "stdout",
     "output_type": "stream",
     "text": [
      "Idade do aluno Pedro atualizada com sucesso para 19 anos.\n"
     ]
    }
   ],
   "source": [
    "conexao = sqlite3.connect('banco')\n",
    "cursor = conexao.cursor()\n",
    "\n",
    "# Atualizar a idade do aluno com nome \"Pedro\" para 19 anos\n",
    "cursor.execute(\"UPDATE alunos SET idade = ? WHERE nome = ?\", (19, \"Pedro\"))\n",
    "\n",
    "# Confirmar a transação\n",
    "conexao.commit()\n",
    "\n",
    "# Exibir mensagem de sucesso\n",
    "print(\"Idade do aluno Pedro atualizada com sucesso para 19 anos.\")\n",
    "\n",
    "conexao.close()"
   ]
  },
  {
   "cell_type": "markdown",
   "metadata": {},
   "source": [
    "- Remova um aluno pelo seu ID."
   ]
  },
  {
   "cell_type": "code",
   "execution_count": 9,
   "metadata": {},
   "outputs": [
    {
     "name": "stdout",
     "output_type": "stream",
     "text": [
      "Aluno com ID 4 removido com sucesso.\n"
     ]
    }
   ],
   "source": [
    "conexao = sqlite3.connect('banco')\n",
    "cursor = conexao.cursor()\n",
    "\n",
    "# Remover o aluno com ID 4\n",
    "cursor.execute(\"DELETE FROM alunos WHERE id = ?\", (4,))\n",
    "\n",
    "# Confirmar a transação\n",
    "conexao.commit()\n",
    "\n",
    "# Exibir mensagem de sucesso\n",
    "print(\"Aluno com ID 4 removido com sucesso.\")\n",
    "\n",
    "conexao.close()"
   ]
  },
  {
   "cell_type": "markdown",
   "metadata": {},
   "source": [
    "**5.** Criar uma Tabela e Inserir Dados\n",
    "\n",
    "Crie uma tabela chamada \"clientes\" com os campos: id (chave\n",
    "primária), nome (texto), idade (inteiro) e saldo (float). Insira alguns\n",
    "registros de clientes na tabela.\n"
   ]
  },
  {
   "cell_type": "code",
   "execution_count": 10,
   "metadata": {},
   "outputs": [
    {
     "name": "stdout",
     "output_type": "stream",
     "text": [
      "Tabela 'clientes' criada e registros inseridos com sucesso!\n"
     ]
    }
   ],
   "source": [
    "conexao = sqlite3.connect('banco')\n",
    "cursor = conexao.cursor()\n",
    "\n",
    "# Definir o comando SQL para criar a tabela 'clientes'\n",
    "criar_tabela_clientes = '''\n",
    "CREATE TABLE clientes (\n",
    "    id INTEGER PRIMARY KEY,\n",
    "    nome TEXT,\n",
    "    idade INTEGER,\n",
    "    saldo REAL\n",
    ")\n",
    "'''\n",
    "\n",
    "# Executar o comando SQL para criar a tabela\n",
    "cursor.execute(criar_tabela_clientes)\n",
    "\n",
    "# Lista de registros de exemplo\n",
    "clientes = [\n",
    "    (1, 'Sonia', 35, 1000.50),\n",
    "    (2, 'Rubens', 45, 2500.75),\n",
    "    (3, 'Jessica', 28, 150.00),\n",
    "    (4, 'Luis', 50, 3000.20),\n",
    "    (5, 'Silvia', 40, 1800.00)\n",
    "]\n",
    "\n",
    "# Inserir os registros na tabela 'clientes'\n",
    "for cliente in clientes:\n",
    "    cursor.execute('INSERT INTO clientes (id, nome, idade, saldo) VALUES (?, ?, ?, ?)', cliente)\n",
    "\n",
    "\n",
    "conexao.commit()\n",
    "conexao.close()\n",
    "\n",
    "print(\"Tabela 'clientes' criada e registros inseridos com sucesso!\")\n"
   ]
  },
  {
   "cell_type": "markdown",
   "metadata": {},
   "source": [
    "**6.** Consultas e Funções Agregadas\n",
    "\n",
    "Escreva consultas SQL para realizar as seguintes tarefas:\n",
    "\n",
    "- Selecione o nome e a idade dos clientes com idade superior a\n",
    "30 anos."
   ]
  },
  {
   "cell_type": "code",
   "execution_count": 11,
   "metadata": {},
   "outputs": [
    {
     "name": "stdout",
     "output_type": "stream",
     "text": [
      "Clientes com mais de 30 anos:\n",
      "Nome: Sonia | Idade: 35\n",
      "Nome: Rubens | Idade: 45\n",
      "Nome: Luis | Idade: 50\n",
      "Nome: Silvia | Idade: 40\n"
     ]
    }
   ],
   "source": [
    "conexao = sqlite3.connect('banco')\n",
    "cursor = conexao.cursor()\n",
    "\n",
    "# Selecionar o nome e a idade dos clientes com idade superior a 30 anos\n",
    "cursor.execute(\"SELECT nome, idade FROM clientes WHERE idade > 30\")\n",
    "\n",
    "# Recuperar os resultados\n",
    "resultados = cursor.fetchall()\n",
    "\n",
    "# Exibir os resultados\n",
    "print(\"Clientes com mais de 30 anos:\")\n",
    "for resultado in resultados:\n",
    "    print(\"Nome:\", resultado[0], \"| Idade:\", resultado[1])\n",
    "\n",
    "conexao.close()"
   ]
  },
  {
   "cell_type": "markdown",
   "metadata": {},
   "source": [
    "- Calcule o saldo médio dos clientes.\n"
   ]
  },
  {
   "cell_type": "code",
   "execution_count": 12,
   "metadata": {},
   "outputs": [
    {
     "name": "stdout",
     "output_type": "stream",
     "text": [
      "Saldo médio dos clientes: 1690.2900000000002\n"
     ]
    }
   ],
   "source": [
    "conexao = sqlite3.connect('banco')\n",
    "cursor = conexao.cursor()\n",
    "\n",
    "# Calcular o saldo médio dos clientes\n",
    "cursor.execute(\"SELECT AVG(saldo) FROM clientes\")\n",
    "\n",
    "# Recuperar o resultado\n",
    "saldo_medio = cursor.fetchone()[0]\n",
    "\n",
    "# Exibir o resultado\n",
    "print(\"Saldo médio dos clientes:\", saldo_medio)\n",
    "\n",
    "conexao.close()"
   ]
  },
  {
   "cell_type": "markdown",
   "metadata": {},
   "source": [
    "- Encontre o cliente com o saldo máximo.\n"
   ]
  },
  {
   "cell_type": "code",
   "execution_count": 13,
   "metadata": {},
   "outputs": [
    {
     "name": "stdout",
     "output_type": "stream",
     "text": [
      "Cliente com saldo máximo:\n",
      "Nome: Luis\n",
      "Idade: 50\n",
      "Saldo: 3000.2\n"
     ]
    }
   ],
   "source": [
    "conexao = sqlite3.connect('banco')\n",
    "cursor = conexao.cursor()\n",
    "\n",
    "# Encontrar o cliente com o saldo máximo\n",
    "cursor.execute(\"SELECT nome, idade, saldo FROM clientes WHERE saldo = (SELECT MAX(saldo) FROM clientes)\")\n",
    "\n",
    "# Recuperar o resultado\n",
    "cliente_saldo_maximo = cursor.fetchone()\n",
    "\n",
    "# Exibir o resultado\n",
    "print(\"Cliente com saldo máximo:\")\n",
    "print(\"Nome:\", cliente_saldo_maximo[0])\n",
    "print(\"Idade:\", cliente_saldo_maximo[1])\n",
    "print(\"Saldo:\", cliente_saldo_maximo[2])\n",
    "\n",
    "conexao.close()"
   ]
  },
  {
   "cell_type": "markdown",
   "metadata": {},
   "source": [
    "- Conte quantos clientes têm saldo acima de 1000."
   ]
  },
  {
   "cell_type": "code",
   "execution_count": 14,
   "metadata": {},
   "outputs": [
    {
     "name": "stdout",
     "output_type": "stream",
     "text": [
      "Número de clientes com saldo acima de 1000: 4\n"
     ]
    }
   ],
   "source": [
    "conexao = sqlite3.connect('banco')\n",
    "cursor = conexao.cursor()\n",
    "\n",
    "# Contar quantos clientes têm saldo acima de 1000\n",
    "cursor.execute(\"SELECT COUNT(*) FROM clientes WHERE saldo > 1000\")\n",
    "\n",
    "# Recuperar o resultado\n",
    "clientes_acima_de_1000 = cursor.fetchone()[0]\n",
    "\n",
    "# Exibir o resultado\n",
    "print(\"Número de clientes com saldo acima de 1000:\", clientes_acima_de_1000)\n",
    "\n",
    "conexao.close()"
   ]
  },
  {
   "cell_type": "markdown",
   "metadata": {},
   "source": [
    "**7.** Atualização e Remoção com Condições\n",
    "- Atualize o saldo de um cliente específico.\n",
    "\n"
   ]
  },
  {
   "cell_type": "code",
   "execution_count": 15,
   "metadata": {},
   "outputs": [
    {
     "name": "stdout",
     "output_type": "stream",
     "text": [
      "Saldo do cliente Rubens atualizado para 2000.\n"
     ]
    }
   ],
   "source": [
    "conexao = sqlite3.connect('banco')\n",
    "cursor = conexao.cursor()\n",
    "\n",
    "# Atualizar o saldo do cliente chamado \"Rubens\" para 2000\n",
    "cursor.execute(\"UPDATE clientes SET saldo = ? WHERE nome = ?\", (2000, \"Rubens\"))\n",
    "\n",
    "# Confirmar a transação\n",
    "conexao.commit()\n",
    "\n",
    "# Exibir mensagem de sucesso\n",
    "print(\"Saldo do cliente Rubens atualizado para 2000.\")\n",
    "\n",
    "conexao.close()"
   ]
  },
  {
   "cell_type": "markdown",
   "metadata": {},
   "source": [
    "- Remova um cliente pelo seu ID."
   ]
  },
  {
   "cell_type": "code",
   "execution_count": 16,
   "metadata": {},
   "outputs": [
    {
     "name": "stdout",
     "output_type": "stream",
     "text": [
      "Cliente com ID 1 removido com sucesso.\n"
     ]
    }
   ],
   "source": [
    "conexao = sqlite3.connect('banco')\n",
    "cursor = conexao.cursor()\n",
    "\n",
    "# Remover o cliente com ID 1\n",
    "cursor.execute(\"DELETE FROM clientes WHERE id = ?\", (1,))\n",
    "\n",
    "# Confirmar a transação\n",
    "conexao.commit()\n",
    "\n",
    "# Exibir mensagem de sucesso\n",
    "print(\"Cliente com ID 1 removido com sucesso.\")\n",
    "\n",
    "conexao.close()"
   ]
  },
  {
   "cell_type": "markdown",
   "metadata": {},
   "source": [
    "**8.** Junção de Tabelas\n",
    "\n",
    "Crie uma segunda tabela chamada \"compras\" com os campos: id (chave primária), cliente_id (chave estrangeira referenciando o id da tabela \"clientes\"), produto (texto) e valor (real). Insira algumas compras associadas a clientes existentes na tabela \"clientes\".\n",
    "Escreva uma consulta para exibir o nome do cliente, o produto e o valor de cada compra."
   ]
  },
  {
   "cell_type": "code",
   "execution_count": 17,
   "metadata": {},
   "outputs": [
    {
     "name": "stdout",
     "output_type": "stream",
     "text": [
      "Nome do Cliente | Produto | Valor da Compra\n",
      "Rubens | Notebook | R$ 1500.0\n",
      "Luis | Smartphone | R$ 1000.0\n",
      "Silvia | Fones de Ouvido | R$ 50.0\n",
      "Rubens | Tablet | R$ 800.0\n",
      "Jessica | Câmera | R$ 1200.0\n"
     ]
    }
   ],
   "source": [
    "conexao = sqlite3.connect('banco')\n",
    "cursor = conexao.cursor()\n",
    "\n",
    "# Definir o comando SQL para criar a tabela 'compras'\n",
    "criar_tabela_compras = '''\n",
    "CREATE TABLE compras (\n",
    "    id INTEGER PRIMARY KEY,\n",
    "    cliente_id INTEGER,\n",
    "    produto TEXT,\n",
    "    valor REAL,\n",
    "    FOREIGN KEY(cliente_id) REFERENCES clientes(id)\n",
    ")\n",
    "'''\n",
    "\n",
    "# Executar o comando SQL para criar a tabela\n",
    "cursor.execute(criar_tabela_compras)\n",
    "\n",
    "# Lista de compras de exemplo\n",
    "compras = [\n",
    "    (1, 2, 'Notebook', 1500.00),  # Cliente com ID 2\n",
    "    (2, 4, 'Smartphone', 1000.00),  # Cliente com ID 4\n",
    "    (3, 5, 'Fones de Ouvido', 50.00),  # Cliente com ID 5\n",
    "    (4, 2, 'Tablet', 800.00),  # Cliente com ID 2\n",
    "    (5, 3, 'Câmera', 1200.00)  # Cliente com ID 3\n",
    "]\n",
    "\n",
    "# Inserir as compras na tabela 'compras'\n",
    "for compra in compras:\n",
    "    cursor.execute('INSERT INTO compras (id, cliente_id, produto, valor) VALUES (?, ?, ?, ?)', compra)\n",
    "\n",
    "# Confirmar a transação\n",
    "conexao.commit()\n",
    "\n",
    "# Consulta para exibir o nome do cliente, o produto e o valor de cada compra\n",
    "consulta = '''\n",
    "SELECT c.nome, co.produto, co.valor\n",
    "FROM compras co\n",
    "JOIN clientes c ON co.cliente_id = c.id\n",
    "'''\n",
    "\n",
    "# Executar a consulta\n",
    "cursor.execute(consulta)\n",
    "\n",
    "# Recuperar os resultados\n",
    "resultados = cursor.fetchall()\n",
    "\n",
    "# Exibir os resultados\n",
    "print(\"Nome do Cliente | Produto | Valor da Compra\")\n",
    "for resultado in resultados:\n",
    "    print(resultado[0], \"|\", resultado[1], \"| R$\", resultado[2])\n",
    "\n",
    "conexao.close()"
   ]
  }
 ],
 "metadata": {
  "kernelspec": {
   "display_name": "Python 3",
   "language": "python",
   "name": "python3"
  },
  "language_info": {
   "codemirror_mode": {
    "name": "ipython",
    "version": 3
   },
   "file_extension": ".py",
   "mimetype": "text/x-python",
   "name": "python",
   "nbconvert_exporter": "python",
   "pygments_lexer": "ipython3",
   "version": "3.12.2"
  }
 },
 "nbformat": 4,
 "nbformat_minor": 2
}
